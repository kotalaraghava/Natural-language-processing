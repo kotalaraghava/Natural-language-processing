{
 "cells": [
  {
   "cell_type": "markdown",
   "metadata": {},
   "source": [
    "## Introduction\n",
    "Okay! here we discuss about how to text augment data using checklist pacakge and how to test performance of the model using augment data for linguistic properties of textual data."
   ]
  },
  {
   "cell_type": "code",
   "execution_count": 11,
   "metadata": {},
   "outputs": [],
   "source": [
    "import checklist\n",
    "from checklist.editor import Editor\n",
    "from checklist.perturb import Perturb"
   ]
  },
  {
   "cell_type": "code",
   "execution_count": 12,
   "metadata": {},
   "outputs": [],
   "source": [
    "editor = Editor()"
   ]
  },
  {
   "cell_type": "code",
   "execution_count": 13,
   "metadata": {},
   "outputs": [],
   "source": [
    "data = [\"John is a very smart person, he lives in Ireland.\",\n",
    "       \"Mark stewart was born and raised in Chicago\",\n",
    "       \"luke smith has 3 sisters\",\n",
    "       'mary is not a nurse',\n",
    "       'Julianne is an engineer',\n",
    "       'My brother andrew used to be a lawyer']"
   ]
  },
  {
   "cell_type": "code",
   "execution_count": 14,
   "metadata": {},
   "outputs": [],
   "source": [
    "# so this function takes in the list of text and replaces some words it's complimentary words ex : profession\n",
    "import re\n",
    "def change_professions(x,meta=False, *args, **kwards):\n",
    "    professions = ['doctor',  'engineer', 'lawyer', 'nurse']\n",
    "    ret = []\n",
    "    ret_meta = []\n",
    "    for p in professions:\n",
    "        if re.search(r'\\b%s\\b'%p, x):\n",
    "            ret.extend([re.sub(r'\\b%s\\b'%p, p2, x) for p2 in professions\n",
    "                       if p != p2])\n",
    "#             if meta:\n",
    "            ret_meta.extend([(p, p2) for p2 in professions if p!=p2])\n",
    "    if meta:\n",
    "        return ret, ret_meta\n",
    "    return ret"
   ]
  },
  {
   "cell_type": "code",
   "execution_count": 15,
   "metadata": {},
   "outputs": [
    {
     "data": {
      "text/plain": [
       "(['mary is not a doctor', 'mary is not a engineer', 'mary is not a lawyer'],\n",
       " [('nurse', 'doctor'), ('nurse', 'engineer'), ('nurse', 'lawyer')])"
      ]
     },
     "execution_count": 15,
     "metadata": {},
     "output_type": "execute_result"
    }
   ],
   "source": [
    "change_professions(data[3], meta=True)"
   ]
  },
  {
   "cell_type": "code",
   "execution_count": 16,
   "metadata": {},
   "outputs": [],
   "source": [
    "# the main function for augementing data here is perturb (modifying) and passing the custom function according \n",
    "#to use case : parameters\n",
    "#keep_origina --> defines to keep main sentence fro which the augment is happening.\n",
    "#n_samples --> on number of sample to perform the augmentation.\n",
    "ret = Perturb.perturb(data, change_professions, keep_original=True)"
   ]
  },
  {
   "cell_type": "code",
   "execution_count": 17,
   "metadata": {},
   "outputs": [
    {
     "data": {
      "text/plain": [
       "[['mary is not a nurse',\n",
       "  'mary is not a doctor',\n",
       "  'mary is not a engineer',\n",
       "  'mary is not a lawyer'],\n",
       " ['Julianne is an engineer',\n",
       "  'Julianne is an doctor',\n",
       "  'Julianne is an lawyer',\n",
       "  'Julianne is an nurse'],\n",
       " ['My brother andrew used to be a lawyer',\n",
       "  'My brother andrew used to be a doctor',\n",
       "  'My brother andrew used to be a engineer',\n",
       "  'My brother andrew used to be a nurse']]"
      ]
     },
     "execution_count": 17,
     "metadata": {},
     "output_type": "execute_result"
    }
   ],
   "source": [
    "ret.data"
   ]
  },
  {
   "cell_type": "code",
   "execution_count": 18,
   "metadata": {},
   "outputs": [],
   "source": [
    "import spacy\n",
    "nlp = spacy.load('en_core_web_sm')"
   ]
  },
  {
   "cell_type": "code",
   "execution_count": 19,
   "metadata": {},
   "outputs": [],
   "source": [
    "pdata =  list(nlp.pipe(data))"
   ]
  },
  {
   "cell_type": "markdown",
   "metadata": {},
   "source": [
    "### Builtin functions of perturb\n",
    "so for all basic functinalities like adding punctuations, spelling mistake library has builtin functions. and all take spacy pipeline object"
   ]
  },
  {
   "cell_type": "code",
   "execution_count": 20,
   "metadata": {},
   "outputs": [
    {
     "data": {
      "text/plain": [
       "(John is a very smart person, he lives in Ireland.,\n",
       " 'John is a very smart person, he lives in Ireland')"
      ]
     },
     "execution_count": 20,
     "metadata": {},
     "output_type": "execute_result"
    }
   ],
   "source": [
    "#here example of strip puncation\n",
    "pdata[0], Perturb.strip_punctuation(pdata[0])"
   ]
  },
  {
   "cell_type": "code",
   "execution_count": 21,
   "metadata": {},
   "outputs": [
    {
     "data": {
      "text/plain": [
       "[['John is a very smart person, he lives in Ireland.',\n",
       "  'John is a very smart person, he lives in Ireland'],\n",
       " ['Mark stewart was born and raised in Chicago',\n",
       "  'Mark stewart was born and raised in Chicago.'],\n",
       " ['luke smith has 3 sisters', 'luke smith has 3 sisters.'],\n",
       " ['mary is not a nurse', 'mary is not a nurse.']]"
      ]
     },
     "execution_count": 21,
     "metadata": {},
     "output_type": "execute_result"
    }
   ],
   "source": [
    "#we just pass data and builting function to perturb and data will be augmented.\n",
    "ret = Perturb.perturb(pdata, Perturb.punctuation)\n",
    "ret.data[:4]"
   ]
  },
  {
   "cell_type": "code",
   "execution_count": 22,
   "metadata": {},
   "outputs": [
    {
     "data": {
      "text/plain": [
       "('John is a very smart person, he lives in Ireland.',\n",
       " 'John is a very smart person, he lives in rIeland.')"
      ]
     },
     "execution_count": 22,
     "metadata": {},
     "output_type": "execute_result"
    }
   ],
   "source": [
    "#similarly typos function\n",
    "data[0], Perturb.add_typos(data[0])"
   ]
  },
  {
   "cell_type": "code",
   "execution_count": 23,
   "metadata": {},
   "outputs": [
    {
     "name": "stdout",
     "output_type": "stream",
     "text": [
      "mary is not a nurse mary isn't a nurse\n",
      "mary is not a nurse mary is not a nurse mary is not a nurse\n"
     ]
    }
   ],
   "source": [
    "#similarly contract to deal with expansion of contractions functions\n",
    "print(data[3], Perturb.contract(data[3]))\n",
    "print(data[3], Perturb.expand_contractions('mary is not a nurse mary isn\\'t a nurse'))"
   ]
  },
  {
   "cell_type": "code",
   "execution_count": 24,
   "metadata": {},
   "outputs": [
    {
     "data": {
      "text/plain": [
       "[['luke smith has 3 sisters',\n",
       "  'Michael Martin has 3 sisters',\n",
       "  'Christopher Wilson has 3 sisters',\n",
       "  'Matthew Wilson has 3 sisters']]"
      ]
     },
     "execution_count": 24,
     "metadata": {},
     "output_type": "execute_result"
    }
   ],
   "source": [
    "#ner supporting funcinalities for changing the names\n",
    "ret = Perturb.perturb(pdata[2:3], Perturb.change_names, nsamples=1, n=3)\n",
    "ret.data"
   ]
  },
  {
   "cell_type": "code",
   "execution_count": 25,
   "metadata": {},
   "outputs": [
    {
     "data": {
      "text/plain": [
       "(['luke Ward has 3 sisters',\n",
       "  'luke Clark has 3 sisters',\n",
       "  'luke Stewart has 3 sisters'],\n",
       " [('smith', 'Ward'), ('smith', 'Clark'), ('smith', 'Stewart')])"
      ]
     },
     "execution_count": 25,
     "metadata": {},
     "output_type": "execute_result"
    }
   ],
   "source": [
    "ret = Perturb.perturb(pdata, Perturb.change_names, nsamples=1, n=3, last_only=True, meta=True)\n",
    "ret.data[0][1:], ret.meta[0][1:]"
   ]
  },
  {
   "cell_type": "code",
   "execution_count": 26,
   "metadata": {},
   "outputs": [
    {
     "data": {
      "text/plain": [
       "(['John is a very smart person, he lives in Ireland.',\n",
       "  'John is a very smart person, he lives in Russian Federation.',\n",
       "  'John is a very smart person, he lives in Poland.',\n",
       "  'John is a very smart person, he lives in Uzbekistan.'],\n",
       " [None,\n",
       "  ('Ireland', 'Russian Federation'),\n",
       "  ('Ireland', 'Poland'),\n",
       "  ('Ireland', 'Uzbekistan')])"
      ]
     },
     "execution_count": 26,
     "metadata": {},
     "output_type": "execute_result"
    }
   ],
   "source": [
    "#ner changing capabilities for cities\n",
    "ret = Perturb.perturb(pdata, Perturb.change_location, nsamples=1, n=3, meta=True)\n",
    "ret.data[0], ret.meta[0]"
   ]
  },
  {
   "cell_type": "code",
   "execution_count": 27,
   "metadata": {},
   "outputs": [
    {
     "data": {
      "text/plain": [
       "(['luke smith has 3 sisters',\n",
       "  'luke smith has 2 sisters',\n",
       "  'luke smith has 4 sisters',\n",
       "  'luke smith has 2 sisters'],\n",
       " [None, ('3', '2'), ('3', '4'), ('3', '2')])"
      ]
     },
     "execution_count": 27,
     "metadata": {},
     "output_type": "execute_result"
    }
   ],
   "source": [
    "#function to change numbers in the input data\n",
    "ret = Perturb.perturb(pdata, Perturb.change_number, nsamples=1, n=3, meta=True)\n",
    "ret.data[0], ret.meta[0]"
   ]
  },
  {
   "cell_type": "code",
   "execution_count": 28,
   "metadata": {},
   "outputs": [
    {
     "name": "stdout",
     "output_type": "stream",
     "text": [
      "This is not good\n",
      "This is good\n",
      "\n",
      "He didn't play the guitar\n",
      "He played the guitar\n",
      "\n",
      "He doesn't play anything\n",
      "He plays anything\n",
      "\n",
      "She wasn't sad\n",
      "She was sad\n",
      "\n"
     ]
    }
   ],
   "source": [
    "# function to remove the negation\n",
    "for t in ['This is not good', 'He didn\\'t play the guitar', 'He doesn\\'t play anything', 'She wasn\\'t sad']:\n",
    "    print(t)\n",
    "    print(Perturb.remove_negation(nlp(t)))\n",
    "    print()"
   ]
  },
  {
   "cell_type": "markdown",
   "metadata": {},
   "source": [
    "## Behavioural  Testing\n",
    "\n",
    "now checking performance of the model using linguistic properties of the language : \n",
    "one of the way is INV -- > \n",
    "SO INV means even after changing labels (ners) to others model should predict the same."
   ]
  },
  {
   "cell_type": "code",
   "execution_count": 29,
   "metadata": {},
   "outputs": [],
   "source": [
    "from checklist.test_types import MFT, INV, DIR"
   ]
  },
  {
   "cell_type": "code",
   "execution_count": 30,
   "metadata": {},
   "outputs": [],
   "source": [
    "from pattern.en import sentiment"
   ]
  },
  {
   "cell_type": "markdown",
   "metadata": {},
   "source": [
    "so we use the sentiment model from the pattern lib and writing the proba function to return probabilities from the sentiment output."
   ]
  },
  {
   "cell_type": "code",
   "execution_count": 31,
   "metadata": {},
   "outputs": [],
   "source": [
    "import numpy as np\n",
    "def predict_proba(inputs):\n",
    "    p1 = np.array([(sentiment(x)[0]+1)/2. for x in inputs]).reshape(-1, 1)\n",
    "#     print(p1)\n",
    "    p0 = 1-p1\n",
    "#     print(p0)\n",
    "    return np.hstack((p0, p1))"
   ]
  },
  {
   "cell_type": "code",
   "execution_count": 32,
   "metadata": {},
   "outputs": [
    {
     "data": {
      "text/plain": [
       "array([[0.15, 0.85],\n",
       "       [0.85, 0.15]])"
      ]
     },
     "execution_count": 32,
     "metadata": {},
     "output_type": "execute_result"
    }
   ],
   "source": [
    "predict_proba(['good', 'bad'])"
   ]
  },
  {
   "cell_type": "code",
   "execution_count": 33,
   "metadata": {},
   "outputs": [],
   "source": [
    "from checklist.pred_wrapper import PredictorWrapper\n",
    "wrapped_pp = PredictorWrapper.wrap_softmax(predict_proba)"
   ]
  },
  {
   "cell_type": "code",
   "execution_count": 34,
   "metadata": {},
   "outputs": [
    {
     "data": {
      "text/plain": [
       "(array([0]), array([[0.85, 0.15]]))"
      ]
     },
     "execution_count": 34,
     "metadata": {},
     "output_type": "execute_result"
    }
   ],
   "source": [
    "wrapped_pp(['bad'])"
   ]
  },
  {
   "cell_type": "code",
   "execution_count": 35,
   "metadata": {},
   "outputs": [
    {
     "data": {
      "text/plain": [
       "<function checklist.pred_wrapper.PredictorWrapper.wrap_softmax.<locals>.pred_and_conf(inputs)>"
      ]
     },
     "execution_count": 35,
     "metadata": {},
     "output_type": "execute_result"
    }
   ],
   "source": [
    "wrapped_pp"
   ]
  },
  {
   "cell_type": "code",
   "execution_count": 36,
   "metadata": {},
   "outputs": [],
   "source": [
    "dataset = ['This was a very nice movie directed by John Smith.',\n",
    "           'Mary Keen was brilliant.', \n",
    "          'I hated everything about this.',\n",
    "          'This movie was very bad.',\n",
    "          'I really liked this movie.',\n",
    "          'just bad.',\n",
    "          'amazing.',\n",
    "          ]\n",
    "pdataset = list(nlp.pipe(dataset))"
   ]
  },
  {
   "cell_type": "code",
   "execution_count": 55,
   "metadata": {},
   "outputs": [
    {
     "name": "stdout",
     "output_type": "stream",
     "text": [
      "This was a very nice movie directed by John Smith.\n",
      "This was a very niec movie directed by John Smith.\n",
      "...\n"
     ]
    }
   ],
   "source": [
    "t = Perturb.perturb(dataset, Perturb.add_typos, nsamples=4)\n",
    "print('\\n'.join(t.data[0][:3]))\n",
    "print('...')\n"
   ]
  },
  {
   "cell_type": "code",
   "execution_count": 56,
   "metadata": {},
   "outputs": [
    {
     "name": "stdout",
     "output_type": "stream",
     "text": [
      "Predicting 8 examples\n",
      "Test cases:      4\n",
      "Fails (rate):    2 (50.0%)\n",
      "\n",
      "Example fails:\n",
      "0.9 Mary Keen was brilliant.\n",
      "0.5 Mary Keen was birlliant.\n",
      "\n",
      "----\n",
      "0.0 This movie was very bad.\n",
      "0.6 This movie was very bda.\n",
      "\n",
      "----\n"
     ]
    }
   ],
   "source": [
    "#instantiate the invariance object by passing the dataset\n",
    "test = INV(**t)\n",
    "#pass the predictive function wrapper\n",
    "test.run(wrapped_pp)\n",
    "test.summary()"
   ]
  },
  {
   "cell_type": "markdown",
   "metadata": {},
   "source": [
    "### Results summary : \n",
    "first we augmented the data by adding typoes.\n",
    "then we passed it to INV object, then in the summary we see two tests failing.\n",
    "in the examples we see the probability of sentiment changing from 0.9 to 0.5 for 2nd example.\n",
    "\n",
    "we can see in following examples and their probabilities"
   ]
  },
  {
   "cell_type": "code",
   "execution_count": 64,
   "metadata": {},
   "outputs": [
    {
     "data": {
      "text/plain": [
       "['Mary Keen was brilliant.', 'Mary Keen was birlliant.']"
      ]
     },
     "execution_count": 64,
     "metadata": {},
     "output_type": "execute_result"
    }
   ],
   "source": [
    "t.data[2]"
   ]
  },
  {
   "cell_type": "code",
   "execution_count": 62,
   "metadata": {},
   "outputs": [
    {
     "data": {
      "text/plain": [
       "(array([1, 0]),\n",
       " array([[0.05, 0.95],\n",
       "        [0.5 , 0.5 ]]))"
      ]
     },
     "execution_count": 62,
     "metadata": {},
     "output_type": "execute_result"
    }
   ],
   "source": [
    "wrapped_pp(t.data[2])"
   ]
  },
  {
   "cell_type": "code",
   "execution_count": 58,
   "metadata": {},
   "outputs": [
    {
     "data": {
      "text/plain": [
       "(['This was a very nice movie directed by John Smith.',\n",
       "  'This was a very niec movie directed by John Smith.'],\n",
       " 4)"
      ]
     },
     "execution_count": 58,
     "metadata": {},
     "output_type": "execute_result"
    }
   ],
   "source": [
    "t.data[0], len(t.data)"
   ]
  },
  {
   "cell_type": "code",
   "execution_count": null,
   "metadata": {},
   "outputs": [],
   "source": []
  }
 ],
 "metadata": {
  "kernelspec": {
   "display_name": "Python 3",
   "language": "python",
   "name": "python3"
  },
  "language_info": {
   "codemirror_mode": {
    "name": "ipython",
    "version": 3
   },
   "file_extension": ".py",
   "mimetype": "text/x-python",
   "name": "python",
   "nbconvert_exporter": "python",
   "pygments_lexer": "ipython3",
   "version": "3.6.9"
  },
  "toc": {
   "base_numbering": 1,
   "nav_menu": {},
   "number_sections": true,
   "sideBar": true,
   "skip_h1_title": false,
   "title_cell": "Table of Contents",
   "title_sidebar": "Contents",
   "toc_cell": false,
   "toc_position": {},
   "toc_section_display": true,
   "toc_window_display": true
  }
 },
 "nbformat": 4,
 "nbformat_minor": 4
}
