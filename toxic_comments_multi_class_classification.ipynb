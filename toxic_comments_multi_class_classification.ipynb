{
 "cells": [
  {
   "cell_type": "code",
   "execution_count": 2,
   "metadata": {},
   "outputs": [],
   "source": [
    "import os\n",
    "import csv\n",
    "import pandas as pd\n",
    "import matplotlib.pyplot as plt\n",
    "import seaborn as sns"
   ]
  },
  {
   "cell_type": "code",
   "execution_count": 3,
   "metadata": {},
   "outputs": [],
   "source": [
    "df = pd.read_csv(\"/home/achint/Raghava/books/NLP/train.csv\")"
   ]
  },
  {
   "cell_type": "code",
   "execution_count": 4,
   "metadata": {},
   "outputs": [
    {
     "data": {
      "text/html": [
       "<div>\n",
       "<style scoped>\n",
       "    .dataframe tbody tr th:only-of-type {\n",
       "        vertical-align: middle;\n",
       "    }\n",
       "\n",
       "    .dataframe tbody tr th {\n",
       "        vertical-align: top;\n",
       "    }\n",
       "\n",
       "    .dataframe thead th {\n",
       "        text-align: right;\n",
       "    }\n",
       "</style>\n",
       "<table border=\"1\" class=\"dataframe\">\n",
       "  <thead>\n",
       "    <tr style=\"text-align: right;\">\n",
       "      <th></th>\n",
       "      <th>id</th>\n",
       "      <th>comment_text</th>\n",
       "      <th>toxic</th>\n",
       "      <th>severe_toxic</th>\n",
       "      <th>obscene</th>\n",
       "      <th>threat</th>\n",
       "      <th>insult</th>\n",
       "      <th>identity_hate</th>\n",
       "    </tr>\n",
       "  </thead>\n",
       "  <tbody>\n",
       "    <tr>\n",
       "      <th>0</th>\n",
       "      <td>0000997932d777bf</td>\n",
       "      <td>Explanation\\nWhy the edits made under my usern...</td>\n",
       "      <td>0</td>\n",
       "      <td>0</td>\n",
       "      <td>0</td>\n",
       "      <td>0</td>\n",
       "      <td>0</td>\n",
       "      <td>0</td>\n",
       "    </tr>\n",
       "    <tr>\n",
       "      <th>1</th>\n",
       "      <td>000103f0d9cfb60f</td>\n",
       "      <td>D'aww! He matches this background colour I'm s...</td>\n",
       "      <td>0</td>\n",
       "      <td>0</td>\n",
       "      <td>0</td>\n",
       "      <td>0</td>\n",
       "      <td>0</td>\n",
       "      <td>0</td>\n",
       "    </tr>\n",
       "    <tr>\n",
       "      <th>2</th>\n",
       "      <td>000113f07ec002fd</td>\n",
       "      <td>Hey man, I'm really not trying to edit war. It...</td>\n",
       "      <td>0</td>\n",
       "      <td>0</td>\n",
       "      <td>0</td>\n",
       "      <td>0</td>\n",
       "      <td>0</td>\n",
       "      <td>0</td>\n",
       "    </tr>\n",
       "    <tr>\n",
       "      <th>3</th>\n",
       "      <td>0001b41b1c6bb37e</td>\n",
       "      <td>\"\\nMore\\nI can't make any real suggestions on ...</td>\n",
       "      <td>0</td>\n",
       "      <td>0</td>\n",
       "      <td>0</td>\n",
       "      <td>0</td>\n",
       "      <td>0</td>\n",
       "      <td>0</td>\n",
       "    </tr>\n",
       "    <tr>\n",
       "      <th>4</th>\n",
       "      <td>0001d958c54c6e35</td>\n",
       "      <td>You, sir, are my hero. Any chance you remember...</td>\n",
       "      <td>0</td>\n",
       "      <td>0</td>\n",
       "      <td>0</td>\n",
       "      <td>0</td>\n",
       "      <td>0</td>\n",
       "      <td>0</td>\n",
       "    </tr>\n",
       "  </tbody>\n",
       "</table>\n",
       "</div>"
      ],
      "text/plain": [
       "                 id                                       comment_text  toxic  \\\n",
       "0  0000997932d777bf  Explanation\\nWhy the edits made under my usern...      0   \n",
       "1  000103f0d9cfb60f  D'aww! He matches this background colour I'm s...      0   \n",
       "2  000113f07ec002fd  Hey man, I'm really not trying to edit war. It...      0   \n",
       "3  0001b41b1c6bb37e  \"\\nMore\\nI can't make any real suggestions on ...      0   \n",
       "4  0001d958c54c6e35  You, sir, are my hero. Any chance you remember...      0   \n",
       "\n",
       "   severe_toxic  obscene  threat  insult  identity_hate  \n",
       "0             0        0       0       0              0  \n",
       "1             0        0       0       0              0  \n",
       "2             0        0       0       0              0  \n",
       "3             0        0       0       0              0  \n",
       "4             0        0       0       0              0  "
      ]
     },
     "execution_count": 4,
     "metadata": {},
     "output_type": "execute_result"
    }
   ],
   "source": [
    "df.head()"
   ]
  },
  {
   "cell_type": "code",
   "execution_count": 6,
   "metadata": {},
   "outputs": [
    {
     "data": {
      "text/plain": [
       "\"Explanation\\nWhy the edits made under my username Hardcore Metallica Fan were reverted? They weren't vandalisms, just closure on some GAs after I voted at New York Dolls FAC. And please don't remove the template from the talk page since I'm retired now.89.205.38.27\""
      ]
     },
     "execution_count": 6,
     "metadata": {},
     "output_type": "execute_result"
    }
   ],
   "source": [
    "df['comment_text'][0]"
   ]
  },
  {
   "cell_type": "code",
   "execution_count": 7,
   "metadata": {},
   "outputs": [
    {
     "data": {
      "text/plain": [
       "(159571, 8)"
      ]
     },
     "execution_count": 7,
     "metadata": {},
     "output_type": "execute_result"
    }
   ],
   "source": [
    "df.shape"
   ]
  },
  {
   "cell_type": "code",
   "execution_count": 10,
   "metadata": {},
   "outputs": [
    {
     "name": "stdout",
     "output_type": "stream",
     "text": [
      "0    144277\n",
      "1     15294\n",
      "Name: toxic, dtype: int64\n",
      "0    157976\n",
      "1      1595\n",
      "Name: severe_toxic, dtype: int64\n",
      "0    151122\n",
      "1      8449\n",
      "Name: obscene, dtype: int64\n",
      "0    159093\n",
      "1       478\n",
      "Name: threat, dtype: int64\n",
      "0    151694\n",
      "1      7877\n",
      "Name: insult, dtype: int64\n",
      "0    158166\n",
      "1      1405\n",
      "Name: identity_hate, dtype: int64\n"
     ]
    }
   ],
   "source": [
    "for col in ['toxic', 'severe_toxic', 'obscene', 'threat', 'insult', 'identity_hate']:\n",
    "    print(df[col].value_counts())"
   ]
  },
  {
   "cell_type": "code",
   "execution_count": 12,
   "metadata": {},
   "outputs": [
    {
     "data": {
      "text/plain": [
       "array(['id', 'comment_text', 'toxic', 'severe_toxic', 'obscene', 'threat',\n",
       "       'insult', 'identity_hate'], dtype=object)"
      ]
     },
     "execution_count": 12,
     "metadata": {},
     "output_type": "execute_result"
    }
   ],
   "source": [
    "df.columns.values"
   ]
  },
  {
   "cell_type": "code",
   "execution_count": 16,
   "metadata": {},
   "outputs": [],
   "source": [
    "from wordcloud import WordCloud, STOPWORDS"
   ]
  },
  {
   "cell_type": "code",
   "execution_count": 18,
   "metadata": {},
   "outputs": [
    {
     "data": {
      "text/plain": [
       "<Figure size 2880x1800 with 0 Axes>"
      ]
     },
     "execution_count": 18,
     "metadata": {},
     "output_type": "execute_result"
    },
    {
     "data": {
      "text/plain": [
       "<Figure size 2880x1800 with 0 Axes>"
      ]
     },
     "metadata": {},
     "output_type": "display_data"
    }
   ],
   "source": [
    "plt.figure(figsize=(40, 25))\n"
   ]
  },
  {
   "cell_type": "code",
   "execution_count": 21,
   "metadata": {},
   "outputs": [],
   "source": [
    "comments = df.comment_text.values"
   ]
  },
  {
   "cell_type": "code",
   "execution_count": 22,
   "metadata": {},
   "outputs": [
    {
     "data": {
      "text/plain": [
       "array([\"Explanation\\nWhy the edits made under my username Hardcore Metallica Fan were reverted? They weren't vandalisms, just closure on some GAs after I voted at New York Dolls FAC. And please don't remove the template from the talk page since I'm retired now.89.205.38.27\",\n",
       "       \"D'aww! He matches this background colour I'm seemingly stuck with. Thanks.  (talk) 21:51, January 11, 2016 (UTC)\",\n",
       "       \"Hey man, I'm really not trying to edit war. It's just that this guy is constantly removing relevant information and talking to me through edits instead of my talk page. He seems to care more about the formatting than the actual info.\",\n",
       "       ...,\n",
       "       'Spitzer \\n\\nUmm, theres no actual article for prostitution ring.  - Crunch Captain.',\n",
       "       'And it looks like it was actually you who put on the speedy to have the first version deleted now that I look at it.',\n",
       "       '\"\\nAnd ... I really don\\'t think you understand.  I came here and my idea was bad right away.  What kind of community goes \"\"you have bad ideas\"\" go away, instead of helping rewrite them.   \"'],\n",
       "      dtype=object)"
      ]
     },
     "execution_count": 22,
     "metadata": {},
     "output_type": "execute_result"
    }
   ],
   "source": [
    "comments"
   ]
  },
  {
   "cell_type": "code",
   "execution_count": 24,
   "metadata": {},
   "outputs": [],
   "source": [
    "colud_comments = WordCloud(stopwords=STOPWORDS,\n",
    "         background_color='black',\n",
    "         collocations=False,\n",
    "         width=2500,\n",
    "         height=1800,\n",
    "         ).generate(' '.join(comments))"
   ]
  },
  {
   "cell_type": "code",
   "execution_count": 27,
   "metadata": {},
   "outputs": [
    {
     "data": {
      "text/plain": [
       "<matplotlib.image.AxesImage at 0x7fccce6deef0>"
      ]
     },
     "execution_count": 27,
     "metadata": {},
     "output_type": "execute_result"
    },
    {
     "data": {
      "image/png": "[encoded data removed]",
      "text/plain": [
       "<Figure size 432x288 with 1 Axes>"
      ]
     },
     "metadata": {
      "needs_background": "light"
     },
     "output_type": "display_data"
    }
   ],
   "source": [
    "plt.axis('off')\n",
    "plt.title(\"Clean\", fontsize=20)\n",
    "plt.imshow(colud_comments)"
   ]
  },
  {
   "cell_type": "code",
   "execution_count": 30,
   "metadata": {},
   "outputs": [
    {
     "name": "stdout",
     "output_type": "stream",
     "text": [
      "0 Explanation\n",
      "Why the edits made under my username Hardcore Metallica Fan were reverted? They weren't vandalisms, just closure on some GAs after I voted at New York Dolls FAC. And please don't remove the template from the talk page since I'm retired now.89.205.38.27\n",
      "1 D'aww! He matches this background colour I'm seemingly stuck with. Thanks.  (talk) 21:51, January 11, 2016 (UTC)\n",
      "2 Hey man, I'm really not trying to edit war. It's just that this guy is constantly removing relevant information and talking to me through edits instead of my talk page. He seems to care more about the formatting than the actual info.\n",
      "3 \"\n",
      "More\n",
      "I can't make any real suggestions on improvement - I wondered if the section statistics should be later on, or a subsection of \"\"types of accidents\"\"  -I think the references may need tidying so that they are all in the exact same format ie date format etc. I can do that later on, if no-one else does first - if you have any preferences for formatting style on references or want to do it yourself please let me know.\n",
      "\n",
      "There appears to be a backlog on articles for review so I guess there may be a delay until a reviewer turns up. It's listed in the relevant form eg Wikipedia:Good_article_nominations#Transport  \"\n",
      "4 You, sir, are my hero. Any chance you remember what page that's on?\n",
      "5 \"\n",
      "\n",
      "Congratulations from me as well, use the tools well.  · talk \"\n",
      "6 COCKSUCKER BEFORE YOU PISS AROUND ON MY WORK\n",
      "7 Your vandalism to the Matt Shirvington article has been reverted.  Please don't do it again, or you will be banned.\n",
      "8 Sorry if the word 'nonsense' was offensive to you. Anyway, I'm not intending to write anything in the article(wow they would jump on me for vandalism), I'm merely requesting that it be more encyclopedic so one can use it for school as a reference. I have been to the selective breeding page but it's almost a stub. It points to 'animal breeding' which is a short messy article that gives you no info. There must be someone around with expertise in eugenics? 93.161.107.169\n",
      "9 alignment on this subject and which are contrary to those of DuLithgow\n",
      "10 \"\n",
      "Fair use rationale for Image:Wonju.jpg\n",
      "\n",
      "Thanks for uploading Image:Wonju.jpg. I notice the image page specifies that the image is being used under fair use but there is no explanation or rationale as to why its use in Wikipedia articles constitutes fair use. In addition to the boilerplate fair use template, you must also write out on the image description page a specific explanation or rationale for why using this image in each article is consistent with fair use.\n",
      "\n",
      "Please go to the image description page and edit it to include a fair use rationale.\n",
      "\n",
      "If you have uploaded other fair use media, consider checking that you have specified the fair use rationale on those pages too. You can find a list of 'image' pages you have edited by clicking on the \"\"my contributions\"\" link (it is located at the very top of any Wikipedia page when you are logged in), and then selecting \"\"Image\"\" from the dropdown box. Note that any fair use images uploaded after 4 May, 2006, and lacking such an explanation will be deleted one week after they have been uploaded, as described on criteria for speedy deletion. If you have any questions please ask them at the Media copyright questions page. Thank you. (talk • contribs • ) \n",
      "Unspecified source for Image:Wonju.jpg\n",
      "\n",
      "Thanks for uploading Image:Wonju.jpg. I noticed that the file's description page currently doesn't specify who created the content, so the copyright status is unclear. If you did not create this file yourself, then you will need to specify the owner of the copyright. If you obtained it from a website, then a link to the website from which it was taken, together with a restatement of that website's terms of use of its content, is usually sufficient information. However, if the copyright holder is different from the website's publisher, then their copyright should also be acknowledged.\n",
      "\n",
      "As well as adding the source, please add a proper copyright licensing tag if the file doesn't have one already. If you created/took the picture, audio, or video then the  tag can be used to release it under the GFDL. If you believe the media meets the criteria at Wikipedia:Fair use, use a tag such as  or one of the other tags listed at Wikipedia:Image copyright tags#Fair use. See Wikipedia:Image copyright tags for the full list of copyright tags that you can use.\n",
      "\n",
      "If you have uploaded other files, consider checking that you have specified their source and tagged them, too. You can find a list of files you have uploaded by following [ this link]. Unsourced and untagged images may be deleted one week after they have been tagged, as described on criteria for speedy deletion. If the image is copyrighted under a non-free license (per Wikipedia:Fair use) then the image will be deleted 48 hours after . If you have any questions please ask them at the Media copyright questions page. Thank you. (talk • contribs • ) \"\n",
      "11 bbq \n",
      "\n",
      "be a man and lets discuss it-maybe over the phone?\n",
      "12 Hey... what is it..\n",
      "@ | talk .\n",
      "What is it... an exclusive group of some WP TALIBANS...who are good at destroying, self-appointed purist who GANG UP any one who asks them questions abt their ANTI-SOCIAL and DESTRUCTIVE (non)-contribution at WP?\n",
      "\n",
      "Ask Sityush to clean up his behavior than issue me nonsensical warnings...\n",
      "13 Before you start throwing accusations and warnings at me, lets review the edit itself-making ad hominem attacks isn't going to strengthen your argument, it will merely make it look like you are abusing your power as an admin. \n",
      "Now, the edit itself is relevant-this is probably the single most talked about event int he news as of late. His absence is notable, since he is the only living ex-president who did not attend. That's certainly more notable than his dedicating an aircracft carrier. \n",
      "I intend to revert this edit, in hopes of attracting the attention of an admin that is willing to look at the issue itself, and not throw accusations around quite so liberally. Perhaps, if you achieve a level of civility where you can do this, we can have a rational discussion on the topic and resolve the matter peacefully.\n",
      "14 Oh, and the girl above started her arguments with me. She stuck her nose where it doesn't belong. I believe the argument was between me and Yvesnimmo. But like I said, the situation was settled and I apologized. Thanks,\n",
      "15 \"\n",
      "\n",
      "Juelz Santanas Age\n",
      "\n",
      "In 2002, Juelz Santana was 18 years old, then came February 18th, which makes Juelz turn 19 making songs with The Diplomats. The third neff to be signed to Cam's label under Roc A Fella. In 2003, he was 20 years old coming out with his own singles \"\"Santana's Town\"\" and \"\"Down\"\". So yes, he is born in 1983. He really is, how could he be older then Lloyd Banks? And how could he be 22 when his birthday passed? The homie neff is 23 years old. 1983 - 2006 (Juelz death, god forbid if your thinking about that) equals 23. Go to your caculator and stop changing his year of birth. My god.\"\n",
      "16 Bye! \n",
      "\n",
      "Don't look, come or think of comming back! Tosser.\n",
      "17 REDIRECT Talk:Voydan Pop Georgiev- Chernodrinski\n",
      "18 The Mitsurugi point made no sense - why not argue to include Hindi on Ryo Sakazaki's page to include more information?\n",
      "19 Don't mean to bother you \n",
      "\n",
      "I see that you're writing something regarding removing anything posted here and if you do oh well but if not and you can acctually discuss this with me then even better.\n",
      "\n",
      "I'd like to ask you to take a closer look at the Premature wrestling deaths catagory and the men listed in it, surely these men belong together in some catagory. Is there anything that you think we can do with the catagory besides delting it?\n",
      "20 \"\n",
      "\n",
      " Regarding your recent edits \n",
      "\n",
      "Once again, please read WP:FILMPLOT before editing any more film articles.  Your edits are simply not good, with entirely too many unnecessary details and very bad writing.  Please stop before you do further damage. -''''''The '45 \"\n",
      "21 \"\n",
      "Good to know. About me, yeah, I'm studying now.(Deepu) \"\n",
      "22 \"\n",
      "\n",
      " Snowflakes are NOT always symmetrical! \n",
      "\n",
      "Under Geometry it is stated that \"\"A snowflake always has six symmetric arms.\"\" This assertion is simply not true! According to Kenneth Libbrecht, \"\"The rather unattractive irregular crystals are by far the most common variety.\"\" http://www.its.caltech.edu/~atomic/snowcrystals/myths/myths.htm#perfection Someone really need to take a look at his site and get FACTS off of it because I still see a decent number of falsities on this page. (forgive me Im new at this and dont want to edit anything)\"\n",
      "23 \"\n",
      "\n",
      " The Signpost: 24 September 2012 \n",
      "\n",
      " Read this Signpost in full\n",
      " Single-page\n",
      " Unsubscribe\n",
      "   \n",
      "\"\n",
      "24 \"\n",
      "\n",
      "Re-considering 1st paragraph edit?\n",
      "I don't understand the reasons for 's recent edit of this article  not that I'm sure that the data are necessarily \"\"wrong.\"\"  Rather, I'm persuaded that the strategy of introducing academic honors in the first paragraph is an unhelpful approach to this specific subject.  I note that articles about other sitting Justices have been similarly \"\"enhanced;\"\" and I also believe those changes are no improvement.  \n",
      "\n",
      "In support of my view that this edit should be reverted, I would invite anyone to re-visit articles written about the following pairs of jurists.\n",
      " A1. Benjamin Cardozo\n",
      " A2. Learned Hand\n",
      "\n",
      " B1. John Marshall Harlan\n",
      " B2. John Marshall Harlan II\n",
      "\n",
      "The question becomes: Would the current version of the Wikipedia article about any one of them  or either pair  be improved by academic credentials in the introductory paragraph?  I think not.\n",
      "\n",
      "Perhaps it helps to repeat a wry argument Kathleen Sullivan of Stanford Law makes when she suggests that some on the Harvard Law faculty wonder how Antonin Scalia avoided learning what others have managed to grasp about the processes of judging?  I would hope this anecdote gently illustrates the point. \n",
      "\n",
      "Less humorous, but an even stronger argument is the one Clarence Thomas makes when he mentions wanting to return his law degree to Yale.\n",
      "\n",
      "At a minimum, I'm questioning this edit?  It deserves to be reconsidered.   \"\n",
      "25 Radial symmetry \n",
      "\n",
      "Several now extinct lineages included in the Echinodermata were bilateral such as Homostelea, or even asymmetrical such as Cothurnocystis (Stylophora).\n",
      "\n",
      "-\n",
      "26 There's no need to apologize. A Wikipedia article is made for reconciling knowledge about a subject from different sources, and you've done history studies and not archaeology studies, I guess. I could scan the page, e-mail it to you, and then you could ask someone to translate the page.\n",
      "27 Yes, because the mother of the child in the case against Michael Jackson was studied in here motives and reasonings and judged upon her character just as harshly as Wacko Jacko himself.  Don't tell me to ignore it and incriminate myself.  I am going to continue refuting the bullshit that Jayjg keeps throwing at me.   18:01, 16 Jun 2005 (UTC)\n",
      "28 \"\n",
      "Ok. But it will take a bit of work but I can't quite picture it. Do you have an example I can base it on?  the Duck \"\n",
      "29 \"== A barnstar for you! ==\n",
      "\n",
      "  The Real Life Barnstar lets us be the stars\n",
      "   \"\n",
      "30 How could I post before the block expires?  The funny thing is, you think I'm being uncivil!\n",
      "31 Not sure about a heading of 'Fight for Freedom' what will it contain?\n",
      "32 Praise \n",
      "\n",
      "looked at this article about 6 months ago -much improved. ]\n",
      "33 I was able to post the above list so quickly because I already had it in a text file in my hard drive  I've been meaning to get around to updating the sound list for some time now. \n",
      "As far as generating interest  I've spent four years trying to drum up more interest in freely licensed full length classical music. Unfortunately, my attempts failed - I'm still effectively the only one who does it. The classical music wikiproject was not interested, (Wikipedia_talk:WikiProject_Classical_music/Archive_5#Need_help.21Wikipedia_talk:WikiProject_Music/Archive_3#I_could_use_some_helpWikipedia_talk:WikiProject_Music/Archive_2#Raulbot.2C_and_the_music_list) So I really had given up trying to interest others.  \n",
      "The sound list was featured on digg a while back - http://digg.com/music/Wikipedia_has_free_classical_music_downloads . It got 1600 diggs, which is IMO very impressive.\n",
      "34 \"\n",
      "Well, not \"\"before the process\"\" but \"\"before how we do things with subpages\"\" His RfA is listed on NoSeptember's page and you can find it if you look. September 2004 I think. I have my differences with El_C to be sure, but was surprised to see a block, so I left a note. ++: t/c \"\n",
      "35 \"\n",
      "\n",
      "Not at all, you are making a straw man argument here. I never claimed O'Donohue had that position, rather that practitioners and researchers in the field ignored the DSM position, which is exactly what the quote says and also something O'Donohue agrees with. \n",
      "\n",
      "Again, I was combating the notion that it was a \"\"absurd part\"\" to claim that pedophilia is a sexual orientation. Since many researchers hold this position, it would be unfair to call it absurd. The disorder part is divided in the field, some argue that it is not a disorder at all, some do. At the end of the day, it is a value judgment (as Cantor pointed out earlier in the thread), not a scientific judgement. If we choose to make this value judgment in the article, it should be stated clearly and not pretend to have a scientific basis.   \"\n",
      "36 \"\n",
      "\n",
      " \"\"Mainland Asia\"\" includes \"\"the lower basin of China's Yangtze River\"\" as well as \"\"Korea\"\".  But being specific is fine too.  I just found a citation for a more comprehensive DNA study by Hammer below, rather than our generarizations and speculation so far. \n",
      "\n",
      " Citation for \"\"Yayoi culture was brought to Japan by migrants from Korea, who in turn trace their roots to southeast Asia/south China.\"\" \n",
      "\n",
      " 2005 DNA study by Hammer\n",
      " Describes the Yayoi migration from Korea based on the O-SRY(465) genes and other genes with close lineage (haplogroups O-M122 and O-M95).\n",
      "Reiterates that \"\"the entire O haplogroup has been proposed to have a Southeast Asian origin.\"\"  (Their definition of Southeast Asia includes southern China).  Then hypothesizes that \"\"the dispersals of Neolithic farmers from Southeast Asia also brought haplogroup O lineages to Korea and eventually to Japan.\"\"\n",
      " In the concluding paragraph, it states \"\"we propose that the Yayoi Y chromosomes descend from prehistoric farmers that had their origins in southeastern Asia, perhaps going back to the origin of agriculture in this region.\"\"\n",
      " Hammer's DNA study is based on a \"\"global sample consisted of > 2,500 males from 39 Asian populations, including six populations sampled from across the Japanese archipelago.\"\"\n",
      " \"\n",
      "37 pretty much everyone from warren county/surrounding regions was born at glens falls hospital. myself included. however, i'm not sure this qualifies anyone as being a glens falls native. rachel ray is, i believe, actually from the town of lake luzerne.  —The preceding unsigned comment was added by 70.100.229.154  04:28:57, August 19, 2007 (UTC)\n",
      "38 Hi Explicit, can you block O Fenian for edit-warring on the Giant's Causeway wp. He has made several edits which can only be described as terrorism.\n",
      "39 Notability of Rurika Kasuga\n",
      "A tag has been placed on Rurika Kasuga, requesting that it be speedily deleted from Wikipedia. This has been done because the article seems to be about a person, group of people, band, club, company, or web content, but it does not indicate how or why the subject is notable, that is, why an article about that subject should be included in Wikipedia. Under the criteria for speedy deletion, articles that do not assert notability may be deleted at any time. Please see the guidelines for what is generally accepted as notable, and if you can indicate why the subject of this article is notable, you may contest the tagging. To do this, add  on the top of the page (below the existing db tag) and leave a note on the article's talk page explaining your position. Please do not remove the speedy deletion tag yourself, but don't hesitate to add information to the article that would confirm its subject's notability under the guidelines.\n",
      "\n",
      "For guidelines on specific types of articles, you may want to check out our criteria for biographies, for web sites, for bands, or for companies. Feel free to leave a note on my talk page if you have any questions about this.\n",
      "40 \"\n",
      " Sure, but the lead must briefly summarize Armenia's history. I simply added what I found necessary. If anyone thinks this or that sentence is redundant for the lead, they are welcome to remove make edits.  talk  \"\n",
      "41 TFD \n",
      "\n",
      "I think we just eced. I think we responded to each other without seeing each others responses. I added something in response to yours, but don't know if you saw mine. (T/C//WP:CHICAGO/WP:FOUR)\n",
      "42 You are gay or antisemmitian? \n",
      "\n",
      "Archangel WHite Tiger\n",
      "\n",
      "Meow! Greetingshhh!\n",
      "\n",
      "Uh, there are two ways, why you do erased my comment about WW2, that holocaust was brutally slaying of Jews and not gays/Gypsys/Slavs/anyone...\n",
      "\n",
      "1 - If you are anti-semitian, than shave your head bald and go to the skinhead meetings!\n",
      "\n",
      "2 - If you doubt words of the Bible, that homosexuality is a deadly sin, make a pentagram tatoo on your forehead go to the satanistic masses with your gay pals!\n",
      "\n",
      "3 - First and last warning, you fucking gay - I won't appreciate if any more nazi shwain would write in my page! I don't wish to talk to you anymore!\n",
      "\n",
      "Beware of the Dark Side!\n",
      "43 FUCK YOUR FILTHY MOTHER IN THE ASS, DRY!\n",
      "44 I'm Sorry \n",
      "\n",
      "I'm sorry I screwed around with someones talk page.  It was very bad to do.  I know how having the templates on their talk page helps you assert your dominance over them.  I know I should bow down to the almighty administrators.  But then again, I'm going to go play outside....with your mom.   76.122.79.82\n",
      "45 I don't believe the Lisak criticism present there conforms with the NPV rule.  Lisak doesn't have a neutral point of view to begin with.  If an offer to polygraph or even concerned review of polygraph results shocks a complainant into thinking her lies have been uncovered, the recantation is still perfectly valid.  If you know you are telling the truth, you will argue with machine or investigator.  Also part of Kanin's research was a followup of the recanted story where possible to verify if any were false recantations.  In all followups the recanted version of events matched what the accused said happened.\n",
      "\n",
      "Arguing that Lisak is a respected PHD is baseless if Kanin is a respected PHD.  I agree that my edit wasn't as neutral as possible though, so apologize for that.  Still something must be done here.\n",
      "46 You had a point, and it's now ammended with appropriate encyclopedic notability/significance.\n",
      "47 In other words, you're too lazy to actually point anything out. Until you change that approach, the tag goes.\n",
      "48 \"\n",
      "As for your claims of \"\"stalking\"\", that is absolute rubbish and serves only to aggravate the situation. I have assumed good faith (and good intentions) on your part, and have never suggested (or seen reason to suggest) that you might have some ulterior motive in mass-adding links to one specific company's web page. Nor, for that matter, have I ever made any suggestion that this is an \"\"administrative\"\" matter or even mentioned such a role. (Clearly, as a party to this disagreement, I would not do so at any rate as it would be a conflict of interest.) I would ask that you thus extend the same good faith toward me, rather than making spurious and unfounded accusations. ''''''chatspy \n",
      "\n",
      "\"\n",
      "49 \"::::Jmabel; in regards to predominant scholary consensus who is it that allegedly claims \"\"despite \"\"Third Way\"\" rhetoric, fascism in power functioned rather consistently as a right-wing force\"\"? As far as I'm aware (owning numerous books on the subject) that is not the scholary consensus at all. The consensus, developed by respected scholars of fascism who write in a manner which is not bias to any interest group such as Roger Griffin, Hamish McDonald, Roger Eatwell and Zeev Sternhell all recongise fascism as a \"\"Third Way\"\" as the references show.\n",
      "\n",
      "The only dissenters I'm aware of who seem to think fascism has absoutely no leftist connections and is merely a radical right system are street level socialists who want to put as much distance between the movements as possible. This of course does not come from educated people in a position to write books. For example, even the foremost scholary expert on Fascism, and a former member of both the Communist Party and then Socialist Party of Italy, Renzo De Felice doesn't try to \"\"cover up\"\" its socialistic origins and third way status. This is a man who has wrote a definitive seven volume piece on Mussolini. -   \n",
      "\n",
      "\"\n",
      "50 \"\n",
      "\n",
      "BI, you said you wanted to talk\n",
      "\n",
      "At the bottom of the lead section you have written:\n",
      "\n",
      "\"\"Its promoter speculated in 1994 that the skyhook concept could be cost competitive with what is realistically thought to be achievable using a space elevator, but the skyhook is not competitive with other rotating tether concepts. In addition, the rotating skyhook is in fact deemed \"\"not engineeringly feasible using presently available materials\"\".\"\"\n",
      "\n",
      "Regarding:  In addition, the rotating skyhook is in fact deemed \"\"not engineeringly feasible using presently available materials\"\"\n",
      "\n",
      "That statement appears to come from Ref [3] on page 10.  The full quote is\n",
      "\n",
      "\"\"If the mass of the tether alone started to exceed 200 times the mass of the payload,\n",
      "then that was an indication the particular scenario being considered was not engineeringly\n",
      "feasible using presently available materials, although the application might become feasible in\n",
      "the near future as better materials become available with higher tensile strengths at higher\n",
      "operational temperatures.\"\"\n",
      "\n",
      "It then goes on to say\n",
      "\n",
      "\"\"As we shall see, presently available commercial materials will suffice to make the HASTOL\n",
      "tethers needed. The primary message we want to leave with the Reader is:\n",
      "“We don't need magic materials like ‘Buckminster-Fuller-carbon-nanotubes’ to make\n",
      "the space tether facility for a HASTOL system. Existing materials will do.”\"\"\n",
      "\n",
      "So it would appear that you misread your reference.  The tether mass of 200 times mass of the payload mass is the upper limit to the problem.  Systems where the tether mass is less than 200 times the payload mass can be built with \"\"presently available commercial materials.\"\"\n",
      "\n",
      "To further reinforce this the Conclusion to the report states\n",
      "\n",
      "\"\"The fundamental conclusion of the Phase I HASTOL study effort is that the concept is\n",
      "technically feasible. We have evaluated a number of alternate system configurations that will\n",
      "allow hypersonic air-breathing vehicle technologies to be combined with orbiting, spinning space\n",
      "tether technologies to provide a method of moving payloads from the surface of the Earth into\n",
      "Earth orbit. For more than one HASTOL architecture concept, we have developed a design\n",
      "solution using existing, or near-term technologies. We expect that a number of the other\n",
      "HASTOL architecture concepts will prove similarly technically feasible when subjected to\n",
      "detailed design studies. The systems are completely reusable and have the potential of drastically\n",
      "reducing the cost of Earth-to-orbit space access.\"\"\n",
      "\n",
      "Regarding: \"\"but the skyhook is not competitive with other rotating tether concepts.\"\" and \n",
      "\n",
      "\"\"A 2000 Boeing report on the possibillity of combining skyhooks with hypersonic planes concluded that \"\"In general, the non-spinning tether HyperSkyhook concept does not look competitive with the spinning tether concepts.\"\".\"\"\n",
      "\n",
      "The full quote is:\n",
      "\n",
      "\"\"HyperSkyhook\n",
      "\n",
      "In 1995 Zubrin proposed the “Hypersonic Skyhook” as a solution to the mismatch between\n",
      "the attainable atmospheric speeds of a hypersonic airplane and the orbital speeds of space tethers.\n",
      "Since the orbital speed of the space tether decreases with increasing altitu\n",
      "51 GET FUCKED UP. GET FUCKEEED UP.  GOT A DRINK THAT YOU CANT PUT DOWN???/ GET FUCK UP GET FUCKED UP.  I'M FUCKED UP RIGHT NOW!\n",
      "52 Are you threatening me for disputing neutrality? I know in your country it's quite common to bully your way through a discussion and push outcomes you want. But this is not Russia.\n",
      "53 Thanks! Undeletion was more than I'd hoped for. I'm researching the status of Texas government (including local government) copyright status, but it's slow going. Apparently works of the Florida government are usually public domain, but we don't have a similar article on Texas, so I guess I'll have to research the old-fashioned, non-lazy, actually reliable way. Or ask the copyright help desk, like you suggested. In the meantime, I'm using the fair use rationale, since it's valid while the image is used in an article. Thanks again! -\n",
      "54 Awesome! Then I'll simply disregard your notice. Thanks!\n",
      "55 Stupid peace of shit stop deleting my stuff asshole go die and fall in a hole go to hell!\n",
      "56 =Tony Sidaway is obviously a fistfuckee. He loves an arm up his ass.\n",
      "57 \"\n",
      "\n",
      " GA Review II \n",
      "\n",
      "I'm sorry to say this, but I have to fail this article's GAN. The several major problems that  brought up in this article's previous GA assessment have not been issued. As s/he has said before me, \"\"he article's WP:LEAD should be longer. The History, Media attention, Academics, Student Government, Demographics, Trivia, and Additional Information section are very deficient in citiations. Also, Triva and Additional information should be integrated into the rest of the article.\"\" Again, please look over WP:WIAGA and fix these problem, then renominate it for GA-class. However, I have re-assessed this article as B-class, as it does meet B-class criteria. My regards,   \"\n",
      "58 My Band Page's deletion. You thought I was gone. \n",
      "\n",
      "Deleting the comment I posted on your 'talk page' does not delete my feelings for your hasty decision to delete my page. You, sir, are still a cock-sucking douche fuck. Sit back for a second and think about what your life has become. ............ Done? That didn't take long did it? Nope. Because, as I am most certainly aware, your life is a shitstorm of sitting in front of the computer masturbating to fictional creatures. Your attempts to get rid of me are mediocre at best. You are constantly sucking the dick of failure. You don't want a personal attack, huh? Well, too bad, Fuckcock McDickerson. You've got one. From me. You can go ahead and delete my profile from wikipedia. I'll just make another one and come right back to 'Syrthiss's talk page and insult the dick off of you. How could you shatter the dreams of an innocent eighteen year old college freshman trying to make a name for his band. Does that make you happy? Fucking with people because you're an overweight, single, old man in a dead-end job. Did you spot that perhaps someone else was going to follow his dreams and you were trying to hold him back so somebody else could suffer like you? Yes you did. I don't make empty threats, so I won't be saying anything along the lines of 'i'll hurt you' or 'i'll eat the children from within your sister's womb', but I will say that you are a asshole, son-of-a-bitch, mother fucking cock sucker. So, go eat some more food and drown your sorrows you premature ejaculating, bald headed fuck.\n",
      "\n",
      "You should do something nice for yourself, maybe go grab a couple of Horny Goat Weeds from your local convenience store and jack off for a little longer than three minutes tonight.\n",
      "\n",
      "Sincerely,\n",
      "An Asshole That's Better Than You In Every Way.\n",
      "59 Why can't you believe how fat Artie is? Did you see him on his recent appearence on the Tonight Show with Jay Leno? He looks absolutely AWFUL! If I had to put money on it, I'd say that Artie Lange is a can't miss candidate for the 2007 Dead pool!   \n",
      "\n",
      "  \n",
      "Kindly keep your malicious fingers off of my above comment, . Everytime you remove it, I will repost it!!!\n",
      "60 Locking this page would also violate WP:NEWBIES.  Whether you like it or not, conservatives are Wikipedians too.\n",
      "61 A Bisexual, like a homosexual or a heterosexual, is not defined by sexual activity. (Much like a 15 year old boy who is attracted to a girl sexually but has never had sex is still straight). A person who is actually sexually attracted/aroused by the same sex as well as the opposite sex is bisexual.\n",
      "62 REDIRECT Talk:Frank Herbert Mason\n",
      "63 \"\n",
      "\n",
      "\"\"Christian arabs\"\"\n",
      "Hi. Could you please stop enforcing the category \"\"Christian arabs\"\" on non arabic Christians living in the middle east? This is wrong. We middle-eastern Christians, though not arabs, have gone through Arabization, and that needs to stop. We are not arabs. We have our own ethnicity, and we shouldn't be forced to be called \"\"Christian arabs\"\". If a Christian European is born in the middle east, should he be called a \"\"Christian arab\"\" because of that reason alone? Please understand, they are Syriac Christians (i.e. of Assyrian ancestry), and most of them speak Aramaic, though a lot of them are forgetting it. As someone who speaks Aramaic, you should respect this fact, and not appease muslims who want to call everyone arabs just because they're in the middle east. We are not closely related to the arabs from Saudiarabia. We have our own ethnicity, please stop forcing upon us some alien arab ethnicity. That's oppression. |Talk 12:17 26 Jun, 2007 (UTC)\"\n",
      "64 \"\n",
      "\n",
      " DH \n",
      "Dude, ABC officially says THIS is the name for that episode. I do know there is already an episode with that name, but ABC says it's \"\"Everybody's Says Don't\"\".   \"\n",
      "65 All of my edits are good.  Cunts like you who revert good edits because you're too stupid to understand how to write well , and then revert other edits just because you've decided to bear a playground grudge, are the problem.  Maybe one day you'll realise the damage you did to a noble project.  201.215.187.159\n",
      "66 \"\n",
      " - NeilN's bang on - You aren't being harassed at all, If you don't edit disruptively  you don't get reverted. –Talk \"\n",
      "67 I went there around the same time he did, and that certainly was not the case at the time. Later on they stopped taking children from such a young age.\n",
      "68 There must be some chemical imbalance in your brains. Are you ok? The gibberish you guys are writing really makes me feel sorry for you. Don't ever go to law school. You would do the legal profession bad.\n",
      "69 \"\n",
      "\n",
      "Parzival418, you are trying to scare ThAtSo. How can you say that the comments of ThAtSo are \"\"insulting\"\"? ThAtSo is trying to suggest that there should be no original research in the Wikipedia. And, he is right. \"\n",
      "70 \"\n",
      "\n",
      "Oppose – As the article stands, it does not properly reference under the WP:REFERENCE guidelines. If this issue is resolved, I don't any issues with it being moved to the mainspace. 「」¤ • ¢  \"\n",
      "71 I would appreciate an apology from both of you but I can see that is unlikely.\n",
      "If not Please don't waste my time any longer with attempts at trying justify either your or Plasma Physics transgressions toward me or bother me any longer about this issue and I SHALL LEAVE YOU ALONE and seek others here who deserve my considerate attention.\n",
      "72 They are NOT original research, they are pointed in the episodes.\n",
      "73 \"\n",
      " Ambiguous ? \n",
      "So Mabuska Irish can mean more than one thing ? I will qoute you on that .Thanks .  — Preceding unsigned comment added by 109.77.58.139   \n",
      "Of course it can. The word \"\"Irish\"\" wasn't invented on the establishment of the Irish Free State. Talk \n",
      "\n",
      "Quote me all you want, it depends on the context of the term when its being used as to whether its applicable or not. Note how i said citizenship and ethnicity - i never mentioned nationality which is the real key meaning. The nationality meaning of the term is the predominantly used form on Wikipedia. In nationality terms it refers to the Republic of Ireland. But you already know that i'm sure.  (talk) \n",
      "\n",
      "\"\"In nationality terms it refers to the Republic of Ireland\"\" no such country . so nationality terms it refers to Ireland .  — Preceding unsigned comment added by 109.76.191.188   \n",
      "\n",
      "Oh wow, Ireland as in Ireland the state (whose official description is the Republic of Ireland). Whats the point in this inane conversation.  (talk) \n",
      "\n",
      "Ireland whose official name is Ireland .  — Preceding unsigned comment added by 109.76.191.188   \n",
      "http://www.constitution.ie/reports/ConstitutionofIreland.pdf reading for you . Also , I see http://www.constitution.ie/reports/mbunreachtnaheireann.pdf , as you speak both .  — Preceding unsigned comment added by 109.78.224.50   \"\n",
      "74 \"\n",
      "While the magazine's masthead says \"\"TIME\"\" the corporate name is Time Inc.  You can easily look this up.  On the other hand, ABN AMRO is always the corporate name.  You can look this up as well.   \"\n",
      "75 Take your belated and piffling prevarications elsewhere. Too late for here.\n",
      "76 That's what I'm looking through, it looks like he was just being an all around dick on talk pages though. It's nothing too bad though, looks more like an inability to express himself properly. Thank you for your concern also, Cheers!! -\n",
      "77 In the same direction, is it really necessary to name all the US states who recognize it? Why not give just the number of states? This is not an American encyclopedia, but an universal one, I don't see why every single US states which recognize it should be named.  (ix)\n",
      "78 , 20 December 2006 (UTC)\n",
      "\n",
      "You must not play Metal Gear Solid 2 that often. GW is the Arsenal Gear A.I. that went haywire after Solid Snake uploaded Emma's virus.  19:32\n",
      "79 Hi! I am back again!\n",
      "Last warning!\n",
      "Stop undoing my edits or die!\n",
      "80 \"\n",
      "\n",
      "Minimization of textile effluent\n",
      "\n",
      "A proposed deletion template has been added to the article Minimization of textile effluent, suggesting that it be deleted according to the proposed deletion process. All contributions are appreciated, but this article may not satisfy Wikipedia's criteria for inclusion, and the deletion notice should explain why (see also \"\"What Wikipedia is not\"\" and Wikipedia's deletion policy).  You may prevent the proposed deletion by removing the  notice, but please explain why you disagree with the proposed deletion in your edit summary or on its talk page. Also, please consider improving the article to address the issues raised. Even though removing the deletion notice will prevent deletion through the proposed deletion process, the article may still be deleted if it matches any of the speedy deletion criteria or it can be sent to Articles for Deletion, where it may be deleted if consensus to delete is reached. If you agree with the deletion of the article, and you are the only person who has made substantial edits to the page, please add  to the top of Minimization of textile effluent.    \"\n",
      "81 \"\n",
      "\n",
      "Is it scientific to attribute an event A, to cause B, where cause B was deliberate designed, with some sort of intelligent intent? Don't answer the questions beyond that\n",
      "Well, the problem with not answering beyond that is that your example is completely rigged. There are several major fundamental problems here.  \n",
      "\n",
      "First, you completely fail to mention the fact that the intelligence behind ID is quite literally not of this earth. Natural science might look at a honeycomb, see it is built by bees, and then find an odd looking fossilized honeycomb, and theorize that it was made by odd looking bees. That is fundamentally different than saying it was made by something not of this earth. ID has at its core the notion that something OUTSIDE the system we can observe is at cause here. This is not science in any sense of the word, it is mythology. When Paul Bunyan was having a wrestling match with babe his blue ox, they kicked up so much dirt they created the great lakes. No evidence of paul and his ox remain. i mean, really.  \n",
      "\n",
      "Second, natural science takes an approach to knowledge that nothing is known scientific law unless it is irrefutable. Theories must have heavy supporting empirical data to back it up. ID turns this on its head and does an end run around knowledge and plays games with \"\"probabilities\"\". If no one can say how flagella on bacteria could have formed naturally, how in the hell can ID proponents come up with any sort of mathematically accurate PROBABILITY of flagella naturally forming on bacteria? If you don't understand it, you can't do statistics on it. ID jumps right over that hurdle and takes anything that doesn't have a complete, detailed, natural explanation and jams in their own statistics that say \"\"well, it's so improbable for this to happen, that someone MUST have designed it\"\". This is such a perversion of science. You can assign probabilities to something you don't understand. ID is just making up their numbers.  \n",
      "\n",
      "Finally, your example has A->B, where B was deliberate design. that's all well and good for a rigged example, except that with respect to life on earth, \"\"B\"\" is unknown. Your A->B example might qualify as forensic science, if \"\"A\"\" were a dead body and \"\"B\"\" were a bullet in the heart. You see a bunch of dead bodies with bullets through the heart, the next time you see a body with a bullet through the  heart, you can probably figure that's what killed him. You don't have that with life on earth. You have ONE scenario, \"\"A\"\", and you have no other cases to observe or test. So, in that sense, A->B is not scientific if you've never actually observed \"\"B\"\". (btw, B is teh intelligent designer, which has NEVER been observed). So, in that sense, no, it isn't science.  \"\n",
      "82 Screwjob \n",
      "\n",
      "   Hey i noticed your comments on the Montreal Screwjob discussion page. I decided since nobody except someone with no account objected to what you said. I would atleast change the page a little to make it fair. I just wanted to tell you because I thought you would like to know. I only changed a few words at the top of the first paragraph and added something to the second one. If your not bothered thats fine but I thought since you were fighting for and nothing was even said, I might aswell tell you.\n",
      "83 April 2006\n",
      "Thank you for experimenting with the page Andy Griffith on Wikipedia. Your test worked, and has been reverted or removed. Please use the sandbox for any other tests you want to do. Take a look at the welcome page if you would like to learn more about contributing to our encyclopedia.\n",
      "84 \"\n",
      "\n",
      "Christ. \"\"IQ is selected for therefore every population has the same IQ.\"\" Never ceases to amaze me.   \n",
      "\n",
      "\"\n",
      "85 Can you prove it isn't ? If you had a better knowledge of the English language it would have been obvious to you.\n",
      "86 Would you both shut up, you don't run wikipedia, especially a stupid kid.\n",
      "87 Oh, it's me vandalising?xD See here. Greetings,\n",
      "88 Website \n",
      "\n",
      "Hey all,\n",
      "I was thinking of getting myself a website to display my pictures and this was the cheapest thing I could find. I don't know about others, but Fir and Diliff, you guys have websites, do you think it is legit? Could you provide any better alternatives? Help from any other guild member is also appreciated. Thanks (talk)\n",
      "89 Thanks reading there now !\n",
      "90 Personal attacks in Fruit Brute VfD \n",
      "\n",
      "My apologies if I'm being to critical, but I feel that many of the comments made in the Fruit Brute VfD debate were far from reasonable.  There had to be a more diplomatic way to disagree with 's assertion on the initial sentence than don't lie, it makes you look even more juvenile.... Learn to face up to when you've goofed, it will go a long way in your life  The attacks do to his age certainly border on a personal attack.  Were Bart133 forty, sixty, or eighty, would you have included the comment on how 'juvenile' he is?\n",
      "\n",
      "I don't expect you to apologise to anyone, but I want to make it clear that I consider your comments in this VfD debate inappropriate, and I think their are many members of the community who would agree with me.   talk 06:46, 2005 Feb 7 (UTC)\n",
      "91 Transliteration of Russian place names\n",
      "In writing about Moscow Metro for the Malayalam Wikipedia, we are finding it difficult to correctly transliterate the Russian place names. For example, do we pronounce Park Kultury as PAARK KALTTARI or PAARK KALCHCHARI (or perhaps something completely different)? Can somebody please help by transliterating the list given in https://ml.wikipedia.org/wiki/സംവാദം:മോസ്കോ_മെട്രോ. (I am not putting the list here as I don't want to clutter up this page.) Thanks\n",
      "92 \"\n",
      "Almost got me too; I had to look it up to see if it was real. ...  talk \"\n",
      "93 How can one defame someone who thinks the Fort Hood Shooting is justified by God's law?\n",
      "94 LACK OF BALANCE\n",
      "\n",
      "This article is seriously out of balance.  It would benefit greatly from the introduction of additional information about the negative aspects of the T-34.  Just for the record, this sort of balance problem is not uncommon when there is an over dependence on the works of a particular author.  For example, testing and evaluation of a T-34 by the US Army Ordnance Dept. exposed some very serious problems with the tank.  This type of information should be included in the article to bring it back into balance.\n",
      "95 \"\n",
      "\n",
      "Thanks. I can see that violating clearly stated Wikipedia policy is no problem with some people, as is now being reviewed elsewhere. Finishing up one other wiki project todsy and then spending the rest of the day on an important personal blog entry.  Then I'll go find other discussions of James Petras' fascinating discussion of the use of the term \"\"Jewish Lobby\"\" so that I don't have to put back up the deleted Dissident Voice article right away per Talk:Jewish_lobby#WP:V_-_comparing_Jewish_Virtual_Library_and_Dissident_Voice.\n",
      "Carol Moore  talk\"\n",
      "96 \"\n",
      "Hi\n",
      "Thanks for our kind words. See you around ) Talk \"\n",
      "97 Collusion in poker \n",
      "\n",
      "This is regarded as most heinous form of cheating in poker, perhaps some mention of this (or example) is warranted?\n",
      "98 Thanks much - however, if it's been resolved, why is it that today, when I didn't write anything in edit summary, CAMERA put its ad in my edit summary box?1equalvoice1 (talk)\n",
      "99 You can do all you're doing right now but if you get a username you'll be able to do more and have more impact is what I'm saying. And you seem to be very familiar with everything so you probably have a username? Just get one, it takes 10 seconds.  (talk•contribs)\n"
     ]
    }
   ],
   "source": [
    "for c,i in enumerate(comments[:100]):\n",
    "    print(c,i)"
   ]
  },
  {
   "cell_type": "code",
   "execution_count": 33,
   "metadata": {},
   "outputs": [
    {
     "data": {
      "text/plain": [
       "'\"\\n\\n Snowflakes are NOT always symmetrical! \\n\\nUnder Geometry it is stated that \"\"A snowflake always has six symmetric arms.\"\" This assertion is simply not true! According to Kenneth Libbrecht, \"\"The rather unattractive irregular crystals are by far the most common variety.\"\" http://www.its.caltech.edu/~atomic/snowcrystals/myths/myths.htm#perfection Someone really need to take a look at his site and get FACTS off of it because I still see a decent number of falsities on this page. (forgive me Im new at this and dont want to edit anything)\"'"
      ]
     },
     "execution_count": 33,
     "metadata": {},
     "output_type": "execute_result"
    }
   ],
   "source": [
    "comments[22]"
   ]
  },
  {
   "cell_type": "code",
   "execution_count": 34,
   "metadata": {},
   "outputs": [],
   "source": [
    "import re"
   ]
  },
  {
   "cell_type": "code",
   "execution_count": 68,
   "metadata": {},
   "outputs": [],
   "source": [
    "def clean_text(text):\n",
    "    text = text.lower()\n",
    "    text = re.sub(r\"what's\", \"what is \", text)\n",
    "    text = re.sub(r\"\\'s\", \" \", text)\n",
    "    text = re.sub(r\"\\'ve\", \" have \", text)\n",
    "    text = re.sub(r\"can't\", \"can not \", text)\n",
    "    text = re.sub(r\"n't\", \" not \", text)\n",
    "    text = re.sub(r\"i'm\", \"i am \", text)\n",
    "    text = re.sub(r\"\\'re\", \" are \", text)\n",
    "    text = re.sub(r\"\\'d\", \" would \", text)\n",
    "    text = re.sub(r\"\\'ll\", \" will \", text)\n",
    "    text = re.sub(r\"\\'scuse\", \" excuse \", text)\n",
    "    text = re.sub('\\W', ' ', text)\n",
    "    text = re.sub('\\s+', ' ', text)\n",
    "    text = text.strip(' ')\n",
    "    return text"
   ]
  },
  {
   "cell_type": "code",
   "execution_count": 69,
   "metadata": {},
   "outputs": [
    {
     "name": "stdout",
     "output_type": "stream",
     "text": [
      "\"\n",
      "\n",
      " Snowflakes are NOT always symmetrical! \n",
      "\n",
      "Under Geometry it is stated that \"\"A snowflake always has six symmetric arms.\"\" This assertion is simply not true! According to Kenneth Libbrecht, \"\"The rather unattractive irregular crystals are by far the most common variety.\"\" http://www.its.caltech.edu/~atomic/snowcrystals/myths/myths.htm#perfection Someone really need to take a look at his site and get FACTS off of it because I still see a decent number of falsities on this page. (forgive me Im new at this and dont want to edit anything)\" \n",
      "!!!!!!!!!!\n",
      "snowflakes are not always symmetrical under geometry it is stated that a snowflake always has six symmetric arms this assertion is simply not true according to kenneth libbrecht the rather unattractive irregular crystals are by far the most common variety http www its caltech edu atomic snowcrystals myths myths htm perfection someone really need to take a look at his site and get facts off of it because i still see a decent number of falsities on this page forgive me im new at this and dont want to edit anything \n",
      " @@@@@@\n",
      "\"\n",
      "\n",
      " The Signpost: 24 September 2012 \n",
      "\n",
      " Read this Signpost in full\n",
      " Single-page\n",
      " Unsubscribe\n",
      "   \n",
      "\" \n",
      "!!!!!!!!!!\n",
      "the signpost 24 september 2012 read this signpost in full single page unsubscribe \n",
      " @@@@@@\n"
     ]
    }
   ],
   "source": [
    "for c in [comments[22], comments[23]]:\n",
    "    print(c,'\\n!!!!!!!!!!')\n",
    "    print(clean_text(c), '\\n @@@@@@')"
   ]
  },
  {
   "cell_type": "code",
   "execution_count": 70,
   "metadata": {},
   "outputs": [],
   "source": [
    "df['comment_text'] = df['comment_text'].map(lambda com:clean_text(com))"
   ]
  },
  {
   "cell_type": "code",
   "execution_count": 74,
   "metadata": {},
   "outputs": [
    {
     "data": {
      "text/plain": [
       "('the signpost 24 september 2012 read this signpost in full single page unsubscribe',\n",
       " Index(['id', 'comment_text', 'toxic', 'severe_toxic', 'obscene', 'threat',\n",
       "        'insult', 'identity_hate'],\n",
       "       dtype='object'))"
      ]
     },
     "execution_count": 74,
     "metadata": {},
     "output_type": "execute_result"
    }
   ],
   "source": [
    "df['comment_text'][23], df.columns"
   ]
  },
  {
   "cell_type": "code",
   "execution_count": 75,
   "metadata": {},
   "outputs": [],
   "source": [
    "categories = ['toxic', 'severe_toxic', 'obscene', 'threat', 'insult', 'identity_hate']"
   ]
  },
  {
   "cell_type": "code",
   "execution_count": 93,
   "metadata": {},
   "outputs": [],
   "source": [
    "from sklearn.model_selection import train_test_split\n",
    "from sklearn.pipeline import Pipeline\n",
    "from sklearn.feature_extraction.text import TfidfVectorizer\n",
    "from sklearn.multiclass import OneVsRestClassifier\n",
    "from sklearn.naive_bayes import MultinomialNB\n",
    "import nltk\n",
    "from sklearn.metrics import accuracy_score"
   ]
  },
  {
   "cell_type": "code",
   "execution_count": 85,
   "metadata": {},
   "outputs": [
    {
     "name": "stderr",
     "output_type": "stream",
     "text": [
      "[nltk_data] Downloading package stopwords to /root/nltk_data...\n",
      "[nltk_data]   Unzipping corpora/stopwords.zip.\n"
     ]
    }
   ],
   "source": [
    "nltk.download('stopwords')\n",
    "stop_words = nltk.corpus.stopwords.words('english')"
   ]
  },
  {
   "cell_type": "code",
   "execution_count": 86,
   "metadata": {},
   "outputs": [],
   "source": [
    "train, test = train_test_split(df, random_state=42, test_size=0.33,shuffle=True)"
   ]
  },
  {
   "cell_type": "code",
   "execution_count": 87,
   "metadata": {},
   "outputs": [],
   "source": [
    "x_train = train.comment_text\n",
    "x_test = test.comment_text"
   ]
  },
  {
   "cell_type": "code",
   "execution_count": 88,
   "metadata": {},
   "outputs": [
    {
     "data": {
      "text/plain": [
       "((106912,), (52659,))"
      ]
     },
     "execution_count": 88,
     "metadata": {},
     "output_type": "execute_result"
    }
   ],
   "source": [
    "x_train.shape, x_test.shape"
   ]
  },
  {
   "cell_type": "code",
   "execution_count": 89,
   "metadata": {},
   "outputs": [],
   "source": [
    "NB_Classifier = Pipeline([\n",
    "    ('tfidf', TfidfVectorizer(stop_words=stop_words)),\n",
    "    ('clf', OneVsRestClassifier(MultinomialNB(\n",
    "        fit_prior=True, class_prior=None))),\n",
    "])"
   ]
  },
  {
   "cell_type": "code",
   "execution_count": 94,
   "metadata": {},
   "outputs": [
    {
     "name": "stdout",
     "output_type": "stream",
     "text": [
      "...preprocessing toxic\n",
      "accuracy score 0.9193300290548624\n",
      "...preprocessing severe_toxic\n",
      "accuracy score 0.9899922140564765\n",
      "...preprocessing obscene\n",
      "accuracy score 0.9516132095178412\n",
      "...preprocessing threat\n",
      "accuracy score 0.9971324939706413\n",
      "...preprocessing insult\n",
      "accuracy score 0.9517461402609241\n",
      "...preprocessing identity_hate\n",
      "accuracy score 0.9910366698949847\n"
     ]
    }
   ],
   "source": [
    "for category in categories:\n",
    "    print('...preprocessing {}'.format(category))\n",
    "    model = NB_Classifier.fit(x_train, train[category])\n",
    "    pre = NB_Classifier.predict(x_test)\n",
    "    print('accuracy score {}'.format(accuracy_score(test[category], pre)))\n",
    "    "
   ]
  },
  {
   "cell_type": "code",
   "execution_count": 99,
   "metadata": {},
   "outputs": [
    {
     "data": {
      "text/plain": [
       "0    52188\n",
       "1      471\n",
       "Name: identity_hate, dtype: int64"
      ]
     },
     "execution_count": 99,
     "metadata": {},
     "output_type": "execute_result"
    }
   ],
   "source": [
    "test[category].value_counts()"
   ]
  },
  {
   "cell_type": "code",
   "execution_count": null,
   "metadata": {},
   "outputs": [],
   "source": []
  }
 ],
 "metadata": {
  "kernelspec": {
   "display_name": "Python 3",
   "language": "python",
   "name": "python3"
  },
  "language_info": {
   "codemirror_mode": {
    "name": "ipython",
    "version": 3
   },
   "file_extension": ".py",
   "mimetype": "text/x-python",
   "name": "python",
   "nbconvert_exporter": "python",
   "pygments_lexer": "ipython3",
   "version": "3.6.9"
  }
 },
 "nbformat": 4,
 "nbformat_minor": 4
}
