{
 "cells": [
  {
   "cell_type": "code",
   "execution_count": 3,
   "metadata": {},
   "outputs": [],
   "source": [
    "import pandas as pd\n",
    "\n",
    "raw_data_output = pd.read_csv(\"/home/achint/Raghava/AI&ML/NLP/maven ai/MavinAI/task2-data_wrangling/outputs/data_annotated_segments.csv\")"
   ]
  },
  {
   "cell_type": "code",
   "execution_count": 4,
   "metadata": {},
   "outputs": [],
   "source": [
    "list_articles = []\n",
    "list_segments = []\n",
    "list_article_clusters = []\n",
    "list_segments_metric=[]\n",
    "\n",
    "unique_article_ids = list(set(raw_data_output['id']))\n",
    "for id_row in unique_article_ids:\n",
    "    \n",
    "    temp_df = raw_data_output[raw_data_output['id']==id_row]\n",
    "    temp_df = temp_df.sort_values(by='segment_number')\n",
    "    temp_df = temp_df.reset_index(drop='true')\n",
    "    \n",
    "    article_row = ' '.join(list(temp_df['text']))\n",
    "    list_articles.append(article_row)\n",
    "    list_article_clusters.append(temp_df['article_cluster'][0])\n",
    "    list_segments.append(list(temp_df['text'].str.strip()))\n",
    "    list_segments_metric.append(str(list(temp_df['text'])))"
   ]
  },
  {
   "cell_type": "code",
   "execution_count": 8,
   "metadata": {
    "collapsed": true,
    "jupyter": {
     "outputs_hidden": true
    },
    "tags": []
   },
   "outputs": [
    {
     "data": {
      "text/plain": [
       "(\"Tony Ferguson has described Dustin Poirier as a 'sell out' after he agreed to fight Conor McGregor, who 'El Cucuy' described as an 'international terrorist'.\\n\\nFerguson was set to face his fellow American at UFC 254 as a co-main event alongside Khabib Nurmagomedov's title defence against Justin Gaethje, but UFC president Dana White claims Poirier asked for too much money.\\n \\nPoirier maintains he has not ruled himself out of the fight despite the issue with White, but he does look set for a rematch with McGregor following their 2014 featherweight encounter in order to determine an outright contender to face the winner from this month's Abu Dhabi showdown.\\n\\nFerguson has furiously claimed however that he has been left 'out of the loop' and took to Twitter to vent his frustration at his compatriot and insult Irishman McGregor.\\n\\n'What a sell out, taking a bribe from an international terrorist,' he wrote. 'Good job kid.\\n \\n'I represent America. All that talk about the fight game only to be afraid & be left behind out of the loop.\\n\\n'Take the money & be proud fake.'\\n\\nMcGregor hung up his gloves in June for the third time in four years, but has since suggested he is ready to return to the Octagon after taking to social media to reveal his plans.\\n\\nAfter Poirier tweeted McGregor on Thursday saying 'Hey @TheNotoriousMMA what's up', the Irishman replied: 'Hello Dustin! I accepted the @ufc offer to fight you, but told them it must happen in 2020.\\n \\n'I'm ready for Nov 21st, given that cards recent injury issues, as well as any of the December dates, the 12th and the 19th. I'll also still donate the $500k to The Good Fight Foundation.'\\n\\nIn their one and only encounter so far back six years ago, McGregor eased to victory after stopping Poirier in the first round in Las Vegas to become a two-weight world champion.\\n\\nMeanwhile, Ferguson has not fought since his defeat to Gaethje back in May at UFC 249.\\n\",\n",
       " 135349411,\n",
       " [\"Tony Ferguson has described Dustin Poirier as a 'sell out' after he agreed to fight Conor McGregor, who 'El Cucuy' described as an 'international terrorist'.\\n\\nFerguson was set to face his fellow American at UFC 254 as a co-main event alongside Khabib Nurmagomedov's title defence against Justin Gaethje, but UFC president Dana White claims Poirier asked for too much money.\",\n",
       "  \"Poirier maintains he has not ruled himself out of the fight despite the issue with White, but he does look set for a rematch with McGregor following their 2014 featherweight encounter in order to determine an outright contender to face the winner from this month's Abu Dhabi showdown.\\n\\nFerguson has furiously claimed however that he has been left 'out of the loop' and took to Twitter to vent his frustration at his compatriot and insult Irishman McGregor.\\n\\n'What a sell out, taking a bribe from an international terrorist,' he wrote. 'Good job kid.\",\n",
       "  \"'I represent America. All that talk about the fight game only to be afraid & be left behind out of the loop.\\n\\n'Take the money & be proud fake.'\\n\\nMcGregor hung up his gloves in June for the third time in four years, but has since suggested he is ready to return to the Octagon after taking to social media to reveal his plans.\\n\\nAfter Poirier tweeted McGregor on Thursday saying 'Hey @TheNotoriousMMA what's up', the Irishman replied: 'Hello Dustin! I accepted the @ufc offer to fight you, but told them it must happen in 2020.\",\n",
       "  \"'I'm ready for Nov 21st, given that cards recent injury issues, as well as any of the December dates, the 12th and the 19th. I'll also still donate the $500k to The Good Fight Foundation.'\\n\\nIn their one and only encounter so far back six years ago, McGregor eased to victory after stopping Poirier in the first round in Las Vegas to become a two-weight world champion.\\n\\nMeanwhile, Ferguson has not fought since his defeat to Gaethje back in May at UFC 249.\"],\n",
       " '[\"Tony Ferguson has described Dustin Poirier as a \\'sell out\\' after he agreed to fight Conor McGregor, who \\'El Cucuy\\' described as an \\'international terrorist\\'.\\\\n\\\\nFerguson was set to face his fellow American at UFC 254 as a co-main event alongside Khabib Nurmagomedov\\'s title defence against Justin Gaethje, but UFC president Dana White claims Poirier asked for too much money.\\\\n\", \"\\\\nPoirier maintains he has not ruled himself out of the fight despite the issue with White, but he does look set for a rematch with McGregor following their 2014 featherweight encounter in order to determine an outright contender to face the winner from this month\\'s Abu Dhabi showdown.\\\\n\\\\nFerguson has furiously claimed however that he has been left \\'out of the loop\\' and took to Twitter to vent his frustration at his compatriot and insult Irishman McGregor.\\\\n\\\\n\\'What a sell out, taking a bribe from an international terrorist,\\' he wrote. \\'Good job kid.\\\\n\", \"\\\\n\\'I represent America. All that talk about the fight game only to be afraid & be left behind out of the loop.\\\\n\\\\n\\'Take the money & be proud fake.\\'\\\\n\\\\nMcGregor hung up his gloves in June for the third time in four years, but has since suggested he is ready to return to the Octagon after taking to social media to reveal his plans.\\\\n\\\\nAfter Poirier tweeted McGregor on Thursday saying \\'Hey @TheNotoriousMMA what\\'s up\\', the Irishman replied: \\'Hello Dustin! I accepted the @ufc offer to fight you, but told them it must happen in 2020.\\\\n\", \"\\\\n\\'I\\'m ready for Nov 21st, given that cards recent injury issues, as well as any of the December dates, the 12th and the 19th. I\\'ll also still donate the $500k to The Good Fight Foundation.\\'\\\\n\\\\nIn their one and only encounter so far back six years ago, McGregor eased to victory after stopping Poirier in the first round in Las Vegas to become a two-weight world champion.\\\\n\\\\nMeanwhile, Ferguson has not fought since his defeat to Gaethje back in May at UFC 249.\\\\n\"]')"
      ]
     },
     "execution_count": 8,
     "metadata": {},
     "output_type": "execute_result"
    }
   ],
   "source": [
    "list_articles[0], list_article_clusters[0], list_segments[0], list_segments_metric[0]"
   ]
  },
  {
   "cell_type": "code",
   "execution_count": 9,
   "metadata": {},
   "outputs": [],
   "source": [
    "article_df = pd.DataFrame()\n",
    "\n",
    "article_df['id'] = unique_article_ids\n",
    "article_df['article_cluster'] = list_article_clusters\n",
    "article_df['articleText'] = list_articles\n",
    "article_df['segments'] = list_segments\n",
    "article_df['segments_for_pkmetric'] = list_segments_metric\n",
    "\n",
    "article_df = article_df.sort_values(by='id')\n",
    "article_df = article_df.reset_index(drop='true')"
   ]
  },
  {
   "cell_type": "code",
   "execution_count": 10,
   "metadata": {},
   "outputs": [
    {
     "data": {
      "text/html": [
       "<div>\n",
       "<style scoped>\n",
       "    .dataframe tbody tr th:only-of-type {\n",
       "        vertical-align: middle;\n",
       "    }\n",
       "\n",
       "    .dataframe tbody tr th {\n",
       "        vertical-align: top;\n",
       "    }\n",
       "\n",
       "    .dataframe thead th {\n",
       "        text-align: right;\n",
       "    }\n",
       "</style>\n",
       "<table border=\"1\" class=\"dataframe\">\n",
       "  <thead>\n",
       "    <tr style=\"text-align: right;\">\n",
       "      <th></th>\n",
       "      <th>id</th>\n",
       "      <th>article_cluster</th>\n",
       "      <th>articleText</th>\n",
       "      <th>segments</th>\n",
       "      <th>segments_for_pkmetric</th>\n",
       "    </tr>\n",
       "  </thead>\n",
       "  <tbody>\n",
       "    <tr>\n",
       "      <th>0</th>\n",
       "      <td>3059279580</td>\n",
       "      <td>130245915</td>\n",
       "      <td>If he wins a US Senate seat in Arizona, the fo...</td>\n",
       "      <td>[If he wins a US Senate seat in Arizona, the f...</td>\n",
       "      <td>['If he wins a US Senate seat in Arizona, the ...</td>\n",
       "    </tr>\n",
       "    <tr>\n",
       "      <th>1</th>\n",
       "      <td>3059452913</td>\n",
       "      <td>130245915</td>\n",
       "      <td>If Arizona Democrat Mark Kelly wins a seat in ...</td>\n",
       "      <td>[If Arizona Democrat Mark Kelly wins a seat in...</td>\n",
       "      <td>['If Arizona Democrat Mark Kelly wins a seat i...</td>\n",
       "    </tr>\n",
       "    <tr>\n",
       "      <th>2</th>\n",
       "      <td>3060083236</td>\n",
       "      <td>131146651</td>\n",
       "      <td>A panel set up by Royal Caribbean Group and No...</td>\n",
       "      <td>[A panel set up by Royal Caribbean Group and N...</td>\n",
       "      <td>['A panel set up by Royal Caribbean Group and ...</td>\n",
       "    </tr>\n",
       "    <tr>\n",
       "      <th>3</th>\n",
       "      <td>3060321422</td>\n",
       "      <td>130245915</td>\n",
       "      <td>A special senate race to fill the late Republi...</td>\n",
       "      <td>[A special senate race to fill the late Republ...</td>\n",
       "      <td>['A special senate race to fill the late Repub...</td>\n",
       "    </tr>\n",
       "    <tr>\n",
       "      <th>4</th>\n",
       "      <td>3060354832</td>\n",
       "      <td>131252978</td>\n",
       "      <td>Sept 21 (Reuters) - The U.S. Centers for Disea...</td>\n",
       "      <td>[Sept 21 (Reuters) - The U.S. Centers for Dise...</td>\n",
       "      <td>['Sept 21 (Reuters) - The U.S. Centers for Dis...</td>\n",
       "    </tr>\n",
       "  </tbody>\n",
       "</table>\n",
       "</div>"
      ],
      "text/plain": [
       "           id  article_cluster  \\\n",
       "0  3059279580        130245915   \n",
       "1  3059452913        130245915   \n",
       "2  3060083236        131146651   \n",
       "3  3060321422        130245915   \n",
       "4  3060354832        131252978   \n",
       "\n",
       "                                         articleText  \\\n",
       "0  If he wins a US Senate seat in Arizona, the fo...   \n",
       "1  If Arizona Democrat Mark Kelly wins a seat in ...   \n",
       "2  A panel set up by Royal Caribbean Group and No...   \n",
       "3  A special senate race to fill the late Republi...   \n",
       "4  Sept 21 (Reuters) - The U.S. Centers for Disea...   \n",
       "\n",
       "                                            segments  \\\n",
       "0  [If he wins a US Senate seat in Arizona, the f...   \n",
       "1  [If Arizona Democrat Mark Kelly wins a seat in...   \n",
       "2  [A panel set up by Royal Caribbean Group and N...   \n",
       "3  [A special senate race to fill the late Republ...   \n",
       "4  [Sept 21 (Reuters) - The U.S. Centers for Dise...   \n",
       "\n",
       "                               segments_for_pkmetric  \n",
       "0  ['If he wins a US Senate seat in Arizona, the ...  \n",
       "1  ['If Arizona Democrat Mark Kelly wins a seat i...  \n",
       "2  ['A panel set up by Royal Caribbean Group and ...  \n",
       "3  ['A special senate race to fill the late Repub...  \n",
       "4  ['Sept 21 (Reuters) - The U.S. Centers for Dis...  "
      ]
     },
     "execution_count": 10,
     "metadata": {},
     "output_type": "execute_result"
    }
   ],
   "source": [
    "article_df.head()"
   ]
  },
  {
   "cell_type": "code",
   "execution_count": 12,
   "metadata": {},
   "outputs": [
    {
     "data": {
      "text/plain": [
       "\"['If he wins a US Senate seat in Arizona, the former astronaut Mark Kelly could take office as early as 30 November, an outcome which might jeopardize the launch of Donald Trump’s third supreme court nominee.\\\\n\\\\nThe Democratic candidate has maintained a polling lead over the Republican Martha McSally, who was appointed to the seat held by John McCain, who died in 2018.\\\\n\\\\nBecause the contest is a special election to finish McCain’s term, the winner could be sworn in as soon as the results are certified. Other winners in November’s contest, in which Democrats hope to retake the Senate, will not take office until January.\\\\n', '\\\\nTrump has pledged to nominate a replacement for Ruth Bader Ginsburg, who died on Friday, and Senate majority leader Mitch McConnell has vowed that the nominee “will receive a vote on the floor of the United States Senate”.\\\\n\\\\nIf Kelly wins, when he takes office could be crucial in deciding the ensuing nomination fight. Republicans currently hold the chamber by 53 seats to 47. The prospect of falling to 52 could prompt McConnell to speed up the nomination process.\\\\n\\\\nWith McSally in the Senate, four defections would defeat a nomination. A tie vote could be broken by Vice-President Mike Pence.\\\\n', '\\\\nWithin hours of the announcement of Ginsberg’s death, McSally declared that “this US Senate should vote on President Trump’s next nominee for the US supreme court”. She has not elaborated on whether the vote should come before or after the election. But she highlighted the renewed stakes of her race in a fundraising pitch on Saturday.\\\\n\\\\n“If Mark Kelly comes out on top, HE could block President Trump’s supreme court Nominee from being confirmed,” McSally wrote.\\\\n', '\\\\nIn the 2018 midterms, Democrats found success in Arizona, long dominated by the GOP, by appealing to Republicans and independents disaffected with Trump. The supreme court vacancy could boost McSally by keeping those voters in her camp.\\\\n\\\\nKelly said late on Saturday: “The people elected to the presidency and Senate in November should fill this vacancy. When it comes to making a lifetime appointment to the supreme court, Washington shouldn’t rush that process for political purposes.”\\\\n', '\\\\nArizona law requires election results to be certified on the fourth Monday after the election, which falls this year on 30 November. The certification could be delayed up to three days if the state has not received election results from any of its 15 counties.\\\\n\\\\nMary O’Grady, a Democratic lawyer, said the deadlines are firm.\\\\n\\\\n“I don’t see ambiguity here,” said O’Grady, Arizona’s solicitor general under two Democratic attorneys general, adding that state law allows recounts and election challenges only under very limited circumstances.\\\\n', '\\\\nFormer Senate historian Don Ritchie told the Arizona Republic, which first reported on the prospect for Kelly taking office early a day before Ginsburg’s death: “Usually, the secretary of the Senate’s office goes out of its way to accommodate the new senators coming in.\\\\n\\\\n“The old senator is out of their office there. I mean, they actually literally put a lock on the door so their staff can’t go in.”\\\\n']\""
      ]
     },
     "execution_count": 12,
     "metadata": {},
     "output_type": "execute_result"
    }
   ],
   "source": [
    "article_df['segments_for_pkmetric'][0]"
   ]
  },
  {
   "cell_type": "code",
   "execution_count": null,
   "metadata": {},
   "outputs": [],
   "source": []
  }
 ],
 "metadata": {
  "kernelspec": {
   "display_name": "Python 3",
   "language": "python",
   "name": "python3"
  },
  "language_info": {
   "codemirror_mode": {
    "name": "ipython",
    "version": 3
   },
   "file_extension": ".py",
   "mimetype": "text/x-python",
   "name": "python",
   "nbconvert_exporter": "python",
   "pygments_lexer": "ipython3",
   "version": "3.6.9"
  }
 },
 "nbformat": 4,
 "nbformat_minor": 4
}
