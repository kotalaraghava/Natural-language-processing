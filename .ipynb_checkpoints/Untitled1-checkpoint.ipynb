{
 "cells": [
  {
   "cell_type": "code",
   "execution_count": 8,
   "metadata": {},
   "outputs": [],
   "source": [
    "import pandas as pd"
   ]
  },
  {
   "cell_type": "code",
   "execution_count": 11,
   "metadata": {},
   "outputs": [],
   "source": [
    "import json, pprint, numpy as np, pandas as pd\n",
    "\n",
    "def remove_tabs(x):\n",
    "    return x.replace(\"\\t\", \" \").replace(\"\\n\", \". \")\n",
    "\n",
    "\n",
    "def preprocess_imdb(split):\n",
    "    imdb_folder = \"../data/\"\n",
    "\n",
    "    filename = split + \".csv\"\n",
    "\n",
    "    imdb_df = pd.read_csv(imdb_folder + filename)\n",
    "    imdb_df[\"text\"] = imdb_df[\"text\"].apply(remove_tabs)\n",
    "    return imdb_df\n",
    "imdb_train_df = preprocess_imdb(\"train\")\n",
    "imdb_dev_df = preprocess_imdb(\"test\")\n",
    "\n",
    "imdb_train_df.to_csv(\"../data/imdb_train.tsv\", sep= \"\\t\", index = False)\n",
    "imdb_dev_df.to_csv(\"../data/imdb_dev.tsv\", sep= \"\\t\", index = False)"
   ]
  },
  {
   "cell_type": "code",
   "execution_count": 12,
   "metadata": {},
   "outputs": [
    {
     "data": {
      "text/html": [
       "<div>\n",
       "<style scoped>\n",
       "    .dataframe tbody tr th:only-of-type {\n",
       "        vertical-align: middle;\n",
       "    }\n",
       "\n",
       "    .dataframe tbody tr th {\n",
       "        vertical-align: top;\n",
       "    }\n",
       "\n",
       "    .dataframe thead th {\n",
       "        text-align: right;\n",
       "    }\n",
       "</style>\n",
       "<table border=\"1\" class=\"dataframe\">\n",
       "  <thead>\n",
       "    <tr style=\"text-align: right;\">\n",
       "      <th></th>\n",
       "      <th>text</th>\n",
       "      <th>sentiment</th>\n",
       "    </tr>\n",
       "  </thead>\n",
       "  <tbody>\n",
       "    <tr>\n",
       "      <th>0</th>\n",
       "      <td>Now, I won't deny that when I purchased this o...</td>\n",
       "      <td>neg</td>\n",
       "    </tr>\n",
       "    <tr>\n",
       "      <th>1</th>\n",
       "      <td>The saddest thing about this \"tribute\" is that...</td>\n",
       "      <td>neg</td>\n",
       "    </tr>\n",
       "    <tr>\n",
       "      <th>2</th>\n",
       "      <td>Last night I decided to watch the prequel or s...</td>\n",
       "      <td>neg</td>\n",
       "    </tr>\n",
       "    <tr>\n",
       "      <th>3</th>\n",
       "      <td>I have to admit that i liked the first half of...</td>\n",
       "      <td>neg</td>\n",
       "    </tr>\n",
       "    <tr>\n",
       "      <th>4</th>\n",
       "      <td>I was not impressed about this film especially...</td>\n",
       "      <td>neg</td>\n",
       "    </tr>\n",
       "  </tbody>\n",
       "</table>\n",
       "</div>"
      ],
      "text/plain": [
       "                                                text sentiment\n",
       "0  Now, I won't deny that when I purchased this o...       neg\n",
       "1  The saddest thing about this \"tribute\" is that...       neg\n",
       "2  Last night I decided to watch the prequel or s...       neg\n",
       "3  I have to admit that i liked the first half of...       neg\n",
       "4  I was not impressed about this film especially...       neg"
      ]
     },
     "execution_count": 12,
     "metadata": {},
     "output_type": "execute_result"
    }
   ],
   "source": [
    "imdb_train_df.head()"
   ]
  },
  {
   "cell_type": "code",
   "execution_count": 15,
   "metadata": {},
   "outputs": [
    {
     "data": {
      "text/plain": [
       "(                                                text sentiment\n",
       " 0  My daughter liked it but I was aghast, that a ...       neg\n",
       " 1  I... No words. No words can describe this. I w...       neg\n",
       " 2  this film is basically a poor take on the old ...       neg\n",
       " 3  This is a terrible movie, and I'm not even sur...       neg\n",
       " 4  First of all this movie is a piece of reality ...       pos,\n",
       " (25000, 2),\n",
       " (25000, 2))"
      ]
     },
     "execution_count": 15,
     "metadata": {},
     "output_type": "execute_result"
    }
   ],
   "source": [
    "imdb_dev_df.head(), imdb_train_df.shape, imdb_dev_df.shape"
   ]
  },
  {
   "cell_type": "code",
   "execution_count": null,
   "metadata": {},
   "outputs": [],
   "source": [
    "def func(score):\n",
    "    if(score>3):\n",
    "        return \"pos\"\n",
    "    else:\n",
    "        return \"neg\"\n",
    "\n",
    "def preprocess(split):\n",
    "    folder = \"../amazon-reviews/home_n_kitchen_splits/\"\n",
    "\n",
    "    filename = split + \".tsv\"\n",
    "\n",
    "    amazon_df = pd.read_csv(folder + filename, sep = \"\\t\")\n",
    "    filterd_amazon_df = amazon_df[amazon_df[\"Score\"]!=3]\n",
    "\n",
    "    # remove irrelevant reviews\n",
    "    filterd_amazon_df = filterd_amazon_df[filterd_amazon_df['Review'].apply(lambda x: isinstance(x, str))]\n",
    "    filterd_amazon_df[\"sentiment\"] = filterd_amazon_df[\"Score\"].apply(func)\n",
    "    del filterd_amazon_df[\"Score\"]\n",
    "    \n",
    "    filterd_amazon_df[\"Review\"] = filterd_amazon_df[\"Review\"].apply(remove_tabs)\n",
    "    filterd_amazon_df.columns = ['text', 'sentiment']\n",
    "    return filterd_amazon_df\n",
    "\n",
    "amazon_train_df = preprocess(\"train\")\n",
    "amazon_dev_df = preprocess(\"dev\")\n",
    "\n",
    "amazon_train_df.to_csv(\"./data/amazon_train.tsv\", sep= \"\\t\", index = False)\n",
    "amazon_dev_df.to_csv(\"./data/amazon_dev.tsv\", sep= \"\\t\", index = False)"
   ]
  },
  {
   "cell_type": "code",
   "execution_count": 26,
   "metadata": {},
   "outputs": [
    {
     "name": "stderr",
     "output_type": "stream",
     "text": [
      "b'Skipping line 7207: expected 15 fields, saw 22\\nSkipping line 13175: expected 15 fields, saw 22\\nSkipping line 14917: expected 15 fields, saw 22\\nSkipping line 28495: expected 15 fields, saw 22\\nSkipping line 38324: expected 15 fields, saw 22\\nSkipping line 38374: expected 15 fields, saw 22\\nSkipping line 49918: expected 15 fields, saw 22\\n'\n"
     ]
    }
   ],
   "source": [
    "df = pd.read_csv(\"/home/achint/Raghava/AI&ML/NLP/data/amazon_reviews_us_Home_Improvement_v1_00.tsv\", \n",
    "            sep='\\t', error_bad_lines=False, nrows=50000)"
   ]
  },
  {
   "cell_type": "code",
   "execution_count": 27,
   "metadata": {},
   "outputs": [],
   "source": [
    "def func(score):\n",
    "    if(score>3):\n",
    "        return \"pos\"\n",
    "    else:\n",
    "        return \"neg\"\n"
   ]
  },
  {
   "cell_type": "code",
   "execution_count": 28,
   "metadata": {},
   "outputs": [],
   "source": [
    "df['star_rating'] = df['star_rating'].apply(func)"
   ]
  },
  {
   "cell_type": "code",
   "execution_count": 30,
   "metadata": {},
   "outputs": [],
   "source": [
    "df = df[['star_rating', 'review_body']]"
   ]
  },
  {
   "cell_type": "code",
   "execution_count": 34,
   "metadata": {},
   "outputs": [],
   "source": [
    "df = df.rename(columns={\"star_rating\":'sentiment', \"review_body\":\"text\"})"
   ]
  },
  {
   "cell_type": "code",
   "execution_count": 39,
   "metadata": {},
   "outputs": [],
   "source": [
    "df_test = df[:25000]"
   ]
  },
  {
   "cell_type": "code",
   "execution_count": 40,
   "metadata": {},
   "outputs": [
    {
     "data": {
      "text/plain": [
       "(25000, 2)"
      ]
     },
     "execution_count": 40,
     "metadata": {},
     "output_type": "execute_result"
    }
   ],
   "source": [
    "df_test.shape"
   ]
  },
  {
   "cell_type": "code",
   "execution_count": 41,
   "metadata": {},
   "outputs": [],
   "source": [
    "df_train = df[25000:]"
   ]
  },
  {
   "cell_type": "code",
   "execution_count": 42,
   "metadata": {},
   "outputs": [
    {
     "data": {
      "text/plain": [
       "(25000, 2)"
      ]
     },
     "execution_count": 42,
     "metadata": {},
     "output_type": "execute_result"
    }
   ],
   "source": [
    "df_train.shape"
   ]
  },
  {
   "cell_type": "code",
   "execution_count": 43,
   "metadata": {},
   "outputs": [],
   "source": [
    "df_train.to_csv(\"../amazon_train.tsv\", sep= \"\\t\", index = False)"
   ]
  },
  {
   "cell_type": "code",
   "execution_count": 44,
   "metadata": {},
   "outputs": [],
   "source": [
    "df_test.to_csv(\"../amazon_test.csv\")"
   ]
  },
  {
   "cell_type": "code",
   "execution_count": null,
   "metadata": {},
   "outputs": [],
   "source": []
  }
 ],
 "metadata": {
  "kernelspec": {
   "display_name": "Python 3",
   "language": "python",
   "name": "python3"
  },
  "language_info": {
   "codemirror_mode": {
    "name": "ipython",
    "version": 3
   },
   "file_extension": ".py",
   "mimetype": "text/x-python",
   "name": "python",
   "nbconvert_exporter": "python",
   "pygments_lexer": "ipython3",
   "version": "3.6.9"
  }
 },
 "nbformat": 4,
 "nbformat_minor": 4
}
