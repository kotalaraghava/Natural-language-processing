{
 "cells": [
  {
   "cell_type": "code",
   "execution_count": 1,
   "metadata": {},
   "outputs": [],
   "source": [
    "import pandas as pd"
   ]
  },
  {
   "cell_type": "code",
   "execution_count": 2,
   "metadata": {},
   "outputs": [],
   "source": [
    "df = pd.read_csv(\"/home/achint/Raghava/AI&ML/NLP/data/NIPS Papers/papers.csv\")"
   ]
  },
  {
   "cell_type": "code",
   "execution_count": 9,
   "metadata": {},
   "outputs": [
    {
     "data": {
      "text/html": [
       "<div>\n",
       "<style scoped>\n",
       "    .dataframe tbody tr th:only-of-type {\n",
       "        vertical-align: middle;\n",
       "    }\n",
       "\n",
       "    .dataframe tbody tr th {\n",
       "        vertical-align: top;\n",
       "    }\n",
       "\n",
       "    .dataframe thead th {\n",
       "        text-align: right;\n",
       "    }\n",
       "</style>\n",
       "<table border=\"1\" class=\"dataframe\">\n",
       "  <thead>\n",
       "    <tr style=\"text-align: right;\">\n",
       "      <th></th>\n",
       "      <th>id</th>\n",
       "      <th>year</th>\n",
       "      <th>title</th>\n",
       "      <th>event_type</th>\n",
       "      <th>pdf_name</th>\n",
       "      <th>abstract</th>\n",
       "      <th>paper_text</th>\n",
       "    </tr>\n",
       "  </thead>\n",
       "  <tbody>\n",
       "    <tr>\n",
       "      <th>0</th>\n",
       "      <td>1</td>\n",
       "      <td>1987</td>\n",
       "      <td>Self-Organization of Associative Database and ...</td>\n",
       "      <td>NaN</td>\n",
       "      <td>1-self-organization-of-associative-database-an...</td>\n",
       "      <td>Abstract Missing</td>\n",
       "      <td>767\\n\\nSELF-ORGANIZATION OF ASSOCIATIVE DATABA...</td>\n",
       "    </tr>\n",
       "    <tr>\n",
       "      <th>1</th>\n",
       "      <td>10</td>\n",
       "      <td>1987</td>\n",
       "      <td>A Mean Field Theory of Layer IV of Visual Cort...</td>\n",
       "      <td>NaN</td>\n",
       "      <td>10-a-mean-field-theory-of-layer-iv-of-visual-c...</td>\n",
       "      <td>Abstract Missing</td>\n",
       "      <td>683\\n\\nA MEAN FIELD THEORY OF LAYER IV OF VISU...</td>\n",
       "    </tr>\n",
       "    <tr>\n",
       "      <th>2</th>\n",
       "      <td>100</td>\n",
       "      <td>1988</td>\n",
       "      <td>Storing Covariance by the Associative Long-Ter...</td>\n",
       "      <td>NaN</td>\n",
       "      <td>100-storing-covariance-by-the-associative-long...</td>\n",
       "      <td>Abstract Missing</td>\n",
       "      <td>394\\n\\nSTORING COVARIANCE BY THE ASSOCIATIVE\\n...</td>\n",
       "    </tr>\n",
       "    <tr>\n",
       "      <th>3</th>\n",
       "      <td>1000</td>\n",
       "      <td>1994</td>\n",
       "      <td>Bayesian Query Construction for Neural Network...</td>\n",
       "      <td>NaN</td>\n",
       "      <td>1000-bayesian-query-construction-for-neural-ne...</td>\n",
       "      <td>Abstract Missing</td>\n",
       "      <td>Bayesian Query Construction for Neural\\nNetwor...</td>\n",
       "    </tr>\n",
       "    <tr>\n",
       "      <th>4</th>\n",
       "      <td>1001</td>\n",
       "      <td>1994</td>\n",
       "      <td>Neural Network Ensembles, Cross Validation, an...</td>\n",
       "      <td>NaN</td>\n",
       "      <td>1001-neural-network-ensembles-cross-validation...</td>\n",
       "      <td>Abstract Missing</td>\n",
       "      <td>Neural Network Ensembles, Cross\\nValidation, a...</td>\n",
       "    </tr>\n",
       "  </tbody>\n",
       "</table>\n",
       "</div>"
      ],
      "text/plain": [
       "     id  year                                              title event_type  \\\n",
       "0     1  1987  Self-Organization of Associative Database and ...        NaN   \n",
       "1    10  1987  A Mean Field Theory of Layer IV of Visual Cort...        NaN   \n",
       "2   100  1988  Storing Covariance by the Associative Long-Ter...        NaN   \n",
       "3  1000  1994  Bayesian Query Construction for Neural Network...        NaN   \n",
       "4  1001  1994  Neural Network Ensembles, Cross Validation, an...        NaN   \n",
       "\n",
       "                                            pdf_name          abstract  \\\n",
       "0  1-self-organization-of-associative-database-an...  Abstract Missing   \n",
       "1  10-a-mean-field-theory-of-layer-iv-of-visual-c...  Abstract Missing   \n",
       "2  100-storing-covariance-by-the-associative-long...  Abstract Missing   \n",
       "3  1000-bayesian-query-construction-for-neural-ne...  Abstract Missing   \n",
       "4  1001-neural-network-ensembles-cross-validation...  Abstract Missing   \n",
       "\n",
       "                                          paper_text  \n",
       "0  767\\n\\nSELF-ORGANIZATION OF ASSOCIATIVE DATABA...  \n",
       "1  683\\n\\nA MEAN FIELD THEORY OF LAYER IV OF VISU...  \n",
       "2  394\\n\\nSTORING COVARIANCE BY THE ASSOCIATIVE\\n...  \n",
       "3  Bayesian Query Construction for Neural\\nNetwor...  \n",
       "4  Neural Network Ensembles, Cross\\nValidation, a...  "
      ]
     },
     "execution_count": 9,
     "metadata": {},
     "output_type": "execute_result"
    }
   ],
   "source": [
    "drop_columns = ['event_type', 'pdf_name', 'year', 'id', 'title', 'abstract']\n",
    "df.head()"
   ]
  },
  {
   "cell_type": "code",
   "execution_count": 5,
   "metadata": {},
   "outputs": [
    {
     "data": {
      "text/plain": [
       "array(['Beyond Pair-Based STDP: a Phenomenological Rule for Spike Triplet and Frequency Effects',\n",
       "       'Layered image motion with explicit occlusions, temporal consistency, and depth ordering',\n",
       "       'The Emergence of Multiple Movement Units in the Presence of Noise and Feedback Delay',\n",
       "       'On the Convergence of Stochastic Gradient MCMC Algorithms with High-Order Integrators',\n",
       "       'Scalable Algorithms for String Kernels with Inexact Matching',\n",
       "       'Robust, Efficient, Globally-Optimized Reinforcement Learning with the Parti-Game Algorithm',\n",
       "       'Distributed Estimation, Information Loss and Exponential Families',\n",
       "       'Refractoriness and Neural Precision',\n",
       "       'Incremental Learning for Visual Tracking',\n",
       "       'Extended Grassmann Kernels for Subspace-Based Learning'],\n",
       "      dtype=object)"
      ]
     },
     "execution_count": 5,
     "metadata": {},
     "output_type": "execute_result"
    }
   ],
   "source": [
    "df['title'].sample(10).values"
   ]
  },
  {
   "cell_type": "code",
   "execution_count": 7,
   "metadata": {},
   "outputs": [
    {
     "data": {
      "text/plain": [
       "'U sing a neural net to instantiate a\\ndeformable model\\nChristopher K. I. Williams; Michael D. Revowand Geoffrey E. Hinton\\nDepartment of Computer Science, University of Toronto\\nToronto, Ontario, Canada M5S lA4\\n\\nAbstract\\nDeformable models are an attractive approach to recognizing nonrigid objects which have considerable within class variability. However, there are severe search problems associated with fitting the\\nmodels to data. We show that by using neural networks to provide\\nbetter starting points, the search time can be significantly reduced.\\nThe method is demonstrated on a character recognition task.\\nIn previous work we have developed an approach to handwritten character recognition based on the use of deformable models (Hinton, Williams and Revow, 1992a;\\nRevow, Williams and Hinton, 1993). We have obtained good performance with this\\nmethod, but a major problem is that the search procedure for fitting each model to\\nan image is very computationally intensive, because there is no efficient algorithm\\n(like dynamic programming) for this task. In this paper we demonstrate that it is\\npossible to \"compile down\" some of the knowledge gained while fitting models to\\ndata to obtain better starting points that significantly reduce the search time.\\n\\n1\\n\\nDEFORMABLE MODELS FOR DIGIT RECOGNITION\\n\\nThe basic idea in using deformable models for digit recognition is that each digit has\\na model, and a test image is classified by finding the model which is most likely to\\nhave generated it. The quality of the match between model and test image depends\\non the deformation of the model, the amount of ink that is attributed to noise and\\nthe distance of the remaining ink from the deformed model.\\n?Current address: Department of Computer Science and Applied Mathematics, Aston\\nUniversity, Birmingham B4 7ET, UK.\\n\\n\\x0c966\\n\\nChristopher K. T. Williams, Michael D. Revow, Geoffrey E. Hinton\\n\\nMore formally, the two important terms in assessing the fit are the prior probability distribution for the instantiation parameters of a model (which penalizes very\\ndistorted models), and the imaging model that characterizes the probability distribution over possible images given the instantiated model l . Let I be an image, M\\nbe a model and z be its instantiation parameters. Then the evidence for model M\\nis given by\\nP(IIM)\\n\\n=\\n\\nJ\\n\\nP(zIM)P(IIM, z)dz\\n\\n(1)\\n\\nThe first term in the integrand is the prior on the instantiation parameters and the\\nsecond is the imaging model i.e., the likelihood of the data given the instantiated\\nmodel. P(MII) is directly proportional to P(IIM), as we assume a uniform prior\\non each digit.\\nEquation 1 is formally correct, but if z has more than a few dimensions the evaluation of this integral is very computationally intensive. However, it is often possible\\nto make an approximation based on the assumption that the integrand is strongly\\npeaked around a (global) maximum value z*. In this case, the evidence can be approximated by the highest peak of the integrand times a volume factor ~(zII, M),\\nwhich measures the sharpness of the peak 2 .\\nP(IIM) ~ P(z*IM)P(Ilz*, M)~(zII, M)\\n\\n(2)\\n\\nBy Taylor expanding around z* to second order it can be shown that the volume\\nfactor depends on the determinant of the Hessian of 10gP(z, 11M) . Taking logs\\nof equation 2, defining EdeJ as the negative log of P(z*IM), and EJit as the corresponding term for the imaging model, then the aim of the search is to find the\\nminimum of E tot = EdeJ + EJit . Of course the total energy will have many local\\nminima; for the character recognition task we aim to find the global minimum by\\nusing a continuation method (see section 1.2).\\n1.1\\n\\nSPLINES, AFFINE TRANSFORMS AND IMAGING MODELS\\n\\nThis section presents a brief overview of our work on using deformable models for\\ndigit recognition. For a fuller treatment, see Revow, Williams and Hinton (1993) .\\nEach digit is modelled by a cubic B-spline whose shape is determined by the positions of the control points in the object-based frame. The models have eight control\\npoints, except for the one model which has three, and the seven model which has\\nfive. To generate an ideal example of a digit the control points are positioned at\\ntheir \"home\" locations. Deformed characters are produced by perturbing the control points away from their home locations. The home locations and covariance\\nmatrix for each model were adapted in order to improve the performance.\\nThe deformation energy only penalizes shape deformations. Affine transformations,\\ni.e., translation, rotation, dilation, elongation, and shear, do not change the underlying shape of an object so we want the deformation energy to be invariant under\\nthem . We achieve this by giving each model its own \"object-based frame\" and\\ncomputing the deformation energy relative to this frame.\\nlThis framework has been used by many authors, e.g. Grenander et al (1991) .\\n2The Gaussian approximation has been popularized in the neural net community by\\nMacKay (1992) .\\n\\n\\x0cUsing a Neural Net to Instantiate a Deformable Model\\n\\n967\\n\\nThe data we used consists of binary-pixel images of segmented handwritten digits.\\nThe general flavour of a imaging model for this problem is that there should be a\\nhigh probability of inked pixels close to the spline, and lower probabilities further\\naway. This can be achieved by spacing out a number of Gaussian \"ink generators\"\\nuniformly along the contour; we have found that it is also useful to have a uniform\\nbackground noise process over the area of the image that is able to account for\\npixels that occur far away from the generators. The ink generators and background\\nprocess define a mixture model. Using the assumption that each data point is\\ngenerated independently given the instantiated model, P(Ilz*, M) factors into the\\nproduct of the probability density of each black pixel under the mixture model.\\n\\n1.2\\n\\nRECOGNIZING ISOLATED DIGITS\\n\\nFor each model, the aim of the search is to find the instantiation parameters that\\nminimize E tot . The search starts with zero deformations and an initial guess for\\nthe affine parameters which scales the model so as to lie over the data with zero\\nskew and rotation. A small number of generators with the same large variance are\\nplaced along the spline, forming a broad, smooth ridge of high ink-probability along\\nthe spline. We use a search procedure similar to the (iterative) Expectation Maximization (EM) method of fitting an unconstrained mixture of Gaussians, except\\nthat (i) the Gaussians are constrained to lie on the spline (ii) there is a deformation energy term and (iii) the affine transformation must be recalculated on each\\niteration. During the search the number of generators is gradually increased while\\ntheir variance decreases according to predetermined \"annealing\" schedule3 .\\nAfter fitting all the models to a particular image, we wish to evaluate which of the\\nmodels best \"explains\" the data. The natural measure is the sum of Ejit, Edej\\nand the volume factor. However, we have found that performance is improved by\\nincluding four additional terms which are easily obtained from the final fits of the\\nmodel to the image. These are (i) a measure which penalizes matches in which\\nthere are beads far from any inked pixels (the \"beads in white space\" problem),\\nand (ii) the rotation, shear and elongation of the affine transform. It is hard to\\ndecide in a principled way on the correct weightings for all of these terms in the\\nevaluation function. We estimated the weightings from the data by training a\\nsimple postprocessing neural network. These inputs are connected directly to the\\nten output units. The output units compete using the \"softmax\" function which\\nguarantees that they form a probability distribution, summing to one.\\n\\n2\\n\\nPREDICTING THE INSTANTIATION PARAMETERS\\n\\nThe search procedure described above is very time consuming. However, given many\\nexamples of images and the corresponding instantiation parameters obtained by the\\nslow method, it is possible to train a neural network to predict the instantiation\\nparameters of novel images. These predictions provide better starting points, so the\\nsearch time can be reduced.\\n3The schedule starts with 8 beads increasing to 60 beads in six steps, with the variance\\ndecreasing from 0.04 to 0.0006 (measured in the object frame). The scale is set in the\\nobject-based frame so that each model is 1 unit high.\\n\\n\\x0c968\\n\\n2.1\\n\\nChristopher K. I. Williams, Michael D. Revow, Geoffrey E. Hinton\\n\\nPREVIOUS WORK\\n\\nPrevious work on hypothesizing instantiation parameters can be placed into two\\nbroad classes, correspondence based search and parameter space search. In correspondence based search, the idea is to extract features from the image and identify\\ncorresponding features in the model. Using sufficient correspondences the instantiation parameters of the model can be determined. The problem is that simple, easily\\ndetectable image features have many possible matches, and more complex features\\nrequire more computation and are more difficult to detect. Grimson (1990) shows\\nhow to search the space of possible correspondences using an interpretation tree.\\nAn alternative approach, which is used in Hough transform techniques, is to directly work in parameter space. The Hough transform was originally designed for\\nthe detection of straight lines in images, and has been extended to cover a number\\nof geometric shapes, notably conic sections. Ballard (1981) further extended the\\napproach to arbitrary shapes with the Generalized Hough Transform . The parameter space for each model is divided into cells (\"binned\"), and then for each image\\nfeature a vote is added to each parameter space bin that could have produced that\\nfeature. After collecting votes from all image features we then search for peaks in\\nthe parameter space accumulator array, and attempt to verify pose. The Hough\\ntransform can be viewed as a crude way of approximating the logarithm of the\\nposterior distribution P(zII, M) (e.g. Hunt et al , 1988).\\nHowever, these two techniques have only been used on problems involving rigid\\nmodels, and are not readily applicable to the digit recognition problem. For the\\nHough space method, binning and vote collection is impractical in the high dimensional parameter space, and for the correspondence based approach there is a\\nlack of easily identified and highly discriminative features. The strengths of these\\ntwo techniques, namely their ability to deal with arbitrary scalings, rotations and\\ntranslations of the data, and their tolerance of extraneous features, are not really\\nrequired for a task where the input data is fairly well segmented and normalized.\\nOur approach is to use a neural network to predict the instantiation parameters for\\neach model, given an input image. Zemel and Hinton (1991) used a similar method\\nwith simple 2-d objects, and more recently, Beymer et al (1993) have constructed\\na network which maps from a face image to a 2-d parameter space spanning head\\nrotations and a smile/no-smile dimension. However, their method does not directly\\nmap from images to instantiation parameters; they use a computer vision correspondence algorithm to determine the displacement field of pixels in a novel image\\nrelative to a reference image, and then use this field as the input to the network.\\nThis step limits the use of the approach to images that are sufficiently similar so\\nthat the correspondence algorithm functions well.\\n\\n2.2\\n\\nINSTANTIATING DIGIT MODELS USING NEURAL\\nNETWORKS\\nThe network which is used to predict the model instantiation parameters is shown\\nin figure 1. The (unthinned) binary images are normalized to give 16 x 16 8-bit\\ngreyscale images which are fed into the neural network. The network uses a standard\\nthree-layer architecture; each hidden unit computes a weighted sum of its inputs,\\nand then feeds this value through a sigmoidal nonlinearity u(x) = 1/(1 + e- X ). The\\n\\n\\x0cUsing a Neural Net to Instantiate a Deformable Model\\n\\ncps for 0 model\\n\\ncps for I model\\n\\n969\\n\\ncps for 9 model\\n\\no\\n\\nFigure 1: The prediction network architecture. \"cps\" stands for control points.\\noutput values are a weighted linear combination of the hidden unit activities plus\\noutput biases. The targets are the locations of the control points in the normalized\\nimage, found from fitting models as described in section 1.2.\\nThe network was trained with backpropagation to minimize the squared error, using\\n900 training images and 200 validation images of each digit drawn from the br\\nset of the CEDAR CDROM 1 database of Cities, States, ZIP Codes, Digits, and\\nAlphabetic Characters4 . Two test sets were used; one was obtained from data in the\\nbr dataset, and the other was the (official) bs test set. After some experimentation\\nwe chose a network with twenty hidden units, which means that the net has over\\n8,000 weights . With such a large number of weights it is important to regularize the\\nsolution obtained by the network by using a complexity penalty; we used a weight\\nand optimized A on a validation set. Targets were only set for the\\npenalty AL: j\\ncorrect digit at the output layer; nothing was backpropagated from the other output\\nunits. The net took 440 epochs to train using the default conjugate gradient search\\nmethod in the Xerion neural network simulator 5 . It would be possible to construct\\nten separate networks to carry out the same task as the net described above, but\\nthis would intensify the danger of overfitting, which is reduced by giving the network\\na common pool of hidden units which it can use as it decides appropriate.\\n\\nwJ\\n\\nFor comparison with the prediction net described above, a trivial network which\\njust consisted of output biases was trained; this network simply learns the average\\nvalue of the control point locations. On a validation set the squared error of the\\nprediction net was over three times smaller than the trivial net. Although this is\\nencouraging, the acid test is to compare the performance of elastic models settled\\nfrom the predicted positions using a shortened annealing schedule; if the predictions\\nare good, then only a short amount of settling will be required.\\n4Made available by the Unites States Postal Service Office of Advanced Technology.\\n5Xerion was designed and implemented by Drew van Camp, Tony Plate and Geoffrey\\nHinton at the University of Toronto.\\n\\n\\x0c970\\n\\nChristopher K. I. Williams, Michael D. Revow, Geoffrey E. Hinton\\n\\nFigure 2: A comparision of the initial instantiations due to the prediction net (top row)\\nand the trivial net (bottom row) on an image of a 2. Notice that for the two model the\\nprediction net is much closer to the data. The other digit models mayor may not be greatly\\naffected by the input data; for example, the predictions from both nets seem essentially\\nthe same for the zero, but for the seven the prediction net puts the model nearer to the\\ndata.\\nThe feedforward net predicts the position of the control points in the normalized\\nimage. By inverting the normalization process, the positions of the control points\\nin the un-normalized image are determined. The model deformation and affine\\ntransformation corresponding to these image control point locations can then be\\ndetermined by running a part of one iteration of the search procedure. Experiments\\nwere then conducted with a number of shortened annealing schedules; for each one,\\ndata obtained from settling on a part of the training data was used to train the\\npostprocessing net. The performance was then evaluated on the br test set.\\nThe full annealing schedule has six stages. The shortened annealing schedules are:\\n1. No settling at all\\n2. Two iterations at the final variance of 0.0006\\n3. One iteration at 0.0025 and two at 0.0006\\n4. The full annealing schedule (for comparison)\\nThe results on the br test set are shown in table 1. The general trends are that the\\nperformance obtained using the prediction net is consistently better than the trivial\\nnet, and that longer annealing schedules lead to better performance. A comparison\\nof schedules 3 and 4 in table 1 indicates that the performance of the prediction\\nnet/schedule 3 combination is similar to (or slightly better than) that obtained\\nwith the full annealing schedule, and is more than a factor of two faster. The\\nresults with the full schedule are almost identical to the results obtained with the\\ndefault \"box\" initialization described in section 1.2. Figure 2 compares the outputs\\nof the prediction and trivial nets on a particular example. Judging from the weight\\n\\n\\x0cUsing a Neural Net to Instantiate a Deformable Model\\n\\nSchedule number\\n\\nTrivial net\\n\\nPrediction net\\n\\n1\\n2\\n3\\n4\\n\\n427\\n329\\n160\\n40\\n\\n200\\n58\\n32\\n36\\n\\n971\\n\\nAverage time required\\nto settle one model (s)\\n0.12\\n0.25\\n0.49\\n1.11\\n\\nTable 1: Errors on the internal test set of 2000 examples for different annealing schedules.\\nThe timing trials were carried out on a R-4400 machine.\\n\\nvectors and activity patterns of the hidden units, it does not seem that some of the\\nunits are specialized for a particular digit class.\\nA run on the bs test set using schedule 3 gave an error rate of 4.76 % (129 errors),\\nwhich is very similar to the 125 errors obtained using the full annealing schedule\\nand the box initialization. A comparison of the errors made on the two runs shows\\nthat only 67 out of the 129 errors were common to the two sets. This suggests that\\nit would be very sensible to reject cases where the two methods do not agree.\\n\\n3\\n\\nDISCUSSION\\n\\nThe prediction net used above can be viewed as an interpolation scheme in the\\ncontrol point position space of each digit z(I) = Zo + 2:i ai(I)zi, where z(I) is\\nthe predicted position in the control point space, Zo is the contribution due to the\\nbiases, ai is the activity of hidden unit i and Zi is its location in the control point\\nposition space (learned from the data) . If there are more hidden units than output\\ndimensions, then for any particular image there are an infinite number of ways to\\nmake this equation hold exactly. However, the network will tend to find solutions\\nso that the ai(I)\\'s will vary smoothly as the image is perturbed.\\nThe nets described above output just one set of instantiation parameters for a\\ngiven model. However, it may be preferable to be able to represent a number of\\nguesses about model instantiation parameters; one way of doing this is to train a\\nnetwork that has multiple sets of output parameters, as in the \"mixture of experts\"\\narchitecture of Jacobs et aI (1991). The outputs can be interpreted as a mixture\\ndistribution in the control point position space, conditioned on the input image.\\nAnother approach to providing more information about the posterior distribution\\nis described in (Hinton, Williams and Revow, 1992b), where P(zlI) is approximated\\nusing a fixed set of basis functions whose weighting depends on the input image I.\\nThe strategies descriped above directly predict the instantiation parameters in parameter space. It is also possible to use neural networks to hypothesize correspondences, i.e. to predict an inked pixel\\'s position on the spline given a local window\\nof context in the image. With sufficient matches it is then possible to compute\\nthe instantiation parameters of the model. We have conducted some preliminary\\nexperiments with this method (described in Williams, 1994), which indicate that\\ngood performance can be achieved for the correspondence prediction task.\\n\\n\\x0c972\\n\\nChristopher K. I. Williams, Michael D. Revow, Geoffrey E. Hinton\\n\\nWe have shown that the we can obtain significant speedup using the prediction net.\\nThe schemes outlined above which allow multimodal predictions in instantiation\\nparameter space may improve performance and deserve further investigation. We\\nare also interested in improving the performance of the prediction net, for example\\nby outputting a confidence measure which could be used to adjust the length of\\nthe elastic models\\' search appropriately. We believe that using machine learning\\ntechniques like neural networks to help reduce the amount of search required to fit\\ncomplex models to data may be useful for many other problems.\\nAcknowledgements\\nThis research was funded by Apple and by the Ontario Information Technology Research\\nCentre. We thank Allan Jepson, Richard Durbin, Rich Zemel, Peter Dayan, Rob Tibshirani\\nand Yann Le Cun for helpful discussions. Geoffrey Hinton is the Noranda Fellow of the\\nCanadian Institute for Advanced Research.\\n\\nReferences\\nBallard, D. H. (1981). Generalizing the Hough transfrom to detect arbitrary shapes.\\nPattern Recognition, 13(2):111-122.\\nBeymer, D., Shashua, A., and Poggio, T . (1993). Example Based Image Analysis and\\nSynthesis. AI Memo 1431, AI Laboratory, MIT.\\nGrenander, U., Chow, Y., and Keenan, D. M. (1991). Hands: A pattern theoretic study of\\nbiological shapes. Springer-Verlag.\\nGrimson, W. E. 1. (1990) . Object recognition by computer. MIT Press, Cambridge, MA.\\nHinton, G. E., Williams, C. K. 1., and Revow, M. D. (1992a). Adaptive elastic models\\nfor hand-printed character recognition. In Moody, J. E., Hanson, S. J., and Lippmann, R. P., editors, Advances in Neural Information Processing Systems 4. Morgan\\nKauffmann.\\nHinton, G. E., Williams, C. K. 1., and Revow, M. D. (1992b). Combinining two methods\\nof recognizing hand-printed digits. In Aleksander, 1. and Taylor, J., editors, Artificial\\nNeural Networks 2. Elsevier Science Publishers.\\nHunt, D. J., Nolte, L. W., and Ruedger, W . H. (1988) . Performance of the Hough Transform and its Relationship to Statistical Signal Detection Theory. Computer Vision,\\nGraphics and Image Processing, 43:221- 238.\\nJacobs, R. A., Jordan, M. 1., Nowlan, S. J., and Hinton, G. E. (1991). Adaptive mixtures\\nof local experts. Neural Computation, 3(1).\\nMacKay, D. J. C. (1992). Bayesian Interpolation. Neural Computation, 4(3):415-447.\\nRevow, M. D., Williams, C. K. 1., and Hinton, G. E. (1993) . Using mixtures of deformable\\nmodels to capture variations in hand printed digits. In Srihari, S., editor, Proceedings\\nof the Third International Workshop on Frontiers in Handwriting Recognition, pages\\n142-152, Buffalo, New York, USA.\\nWilliams, C. K. 1. (1994) . Combining deformable models and neural networks for handprinted digit recognition. PhD thesis, Dept. of Computer Science, University of\\nToronto.\\nZemel, R . S. and Hinton, G. E. (1991) . Discovering viewpoint-invariant relationships that\\ncharacterize objects. In Lippmann, R. P., Moody, J. E., and Touretzky, D. S., editors, Advances In Neural Information Processing Systems 3, pages 299-305. Morgan\\nKaufmann Publishers.\\n\\n\\x0c'"
      ]
     },
     "execution_count": 7,
     "metadata": {},
     "output_type": "execute_result"
    }
   ],
   "source": [
    "df['paper_text'].sample(10).values[0]"
   ]
  },
  {
   "cell_type": "code",
   "execution_count": 12,
   "metadata": {},
   "outputs": [],
   "source": [
    "df = df.drop(drop_columns, axis=1)"
   ]
  },
  {
   "cell_type": "code",
   "execution_count": 15,
   "metadata": {},
   "outputs": [],
   "source": [
    "df.head()\n",
    "papers = df[:]"
   ]
  },
  {
   "cell_type": "code",
   "execution_count": 16,
   "metadata": {},
   "outputs": [
    {
     "name": "stderr",
     "output_type": "stream",
     "text": [
      "/home/achint/Raghava/pm4py_sources/venv/lib/python3.6/site-packages/ipykernel_launcher.py:3: SettingWithCopyWarning: \n",
      "A value is trying to be set on a copy of a slice from a DataFrame.\n",
      "Try using .loc[row_indexer,col_indexer] = value instead\n",
      "\n",
      "See the caveats in the documentation: http://pandas.pydata.org/pandas-docs/stable/indexing.html#indexing-view-versus-copy\n",
      "  This is separate from the ipykernel package so we can avoid doing imports until\n",
      "/home/achint/Raghava/pm4py_sources/venv/lib/python3.6/site-packages/ipykernel_launcher.py:5: SettingWithCopyWarning: \n",
      "A value is trying to be set on a copy of a slice from a DataFrame.\n",
      "Try using .loc[row_indexer,col_indexer] = value instead\n",
      "\n",
      "See the caveats in the documentation: http://pandas.pydata.org/pandas-docs/stable/indexing.html#indexing-view-versus-copy\n",
      "  \"\"\"\n"
     ]
    },
    {
     "data": {
      "text/plain": [
       "0    767\\n\\nself-organization of associative databa...\n",
       "1    683\\n\\na mean field theory of layer iv of visu...\n",
       "2    394\\n\\nstoring covariance by the associative\\n...\n",
       "3    bayesian query construction for neural\\nnetwor...\n",
       "4    neural network ensembles cross\\nvalidation and...\n",
       "Name: paper_text_processed, dtype: object"
      ]
     },
     "execution_count": 16,
     "metadata": {},
     "output_type": "execute_result"
    }
   ],
   "source": [
    "import re\n",
    "# Remove punctuation\n",
    "papers['paper_text_processed'] = papers['paper_text'].map(lambda x: re.sub('[,\\.!?]', '', x))\n",
    "# Convert the titles to lowercase\n",
    "papers['paper_text_processed'] = papers['paper_text_processed'].map(lambda x: x.lower())\n",
    "# Print out the first rows of papers\n",
    "papers['paper_text_processed'].head()"
   ]
  },
  {
   "cell_type": "code",
   "execution_count": 17,
   "metadata": {},
   "outputs": [],
   "source": [
    "import gensim\n",
    "from gensim.utils import simple_preprocess"
   ]
  },
  {
   "cell_type": "code",
   "execution_count": 18,
   "metadata": {},
   "outputs": [],
   "source": [
    "def sentece_to_words(sentences):\n",
    "    return simple_preprocess(str(sentences), deacc=True)"
   ]
  },
  {
   "cell_type": "code",
   "execution_count": 19,
   "metadata": {},
   "outputs": [
    {
     "name": "stderr",
     "output_type": "stream",
     "text": [
      "/home/achint/Raghava/pm4py_sources/venv/lib/python3.6/site-packages/pandas/core/generic.py:5096: SettingWithCopyWarning: \n",
      "A value is trying to be set on a copy of a slice from a DataFrame.\n",
      "Try using .loc[row_indexer,col_indexer] = value instead\n",
      "\n",
      "See the caveats in the documentation: http://pandas.pydata.org/pandas-docs/stable/indexing.html#indexing-view-versus-copy\n",
      "  self[name] = value\n"
     ]
    }
   ],
   "source": [
    "papers.paper_text_processed = papers.paper_text_processed.apply(sentece_to_words)"
   ]
  },
  {
   "cell_type": "code",
   "execution_count": 20,
   "metadata": {},
   "outputs": [
    {
     "data": {
      "text/plain": [
       "0    [self, organization, of, associative, database...\n",
       "1    [mean, field, theory, of, layer, iv, of, visua...\n",
       "2    [storing, covariance, by, the, associative, lo...\n",
       "3    [bayesian, query, construction, for, neural, n...\n",
       "4    [neural, network, ensembles, cross, validation...\n",
       "Name: paper_text_processed, dtype: object"
      ]
     },
     "execution_count": 20,
     "metadata": {},
     "output_type": "execute_result"
    }
   ],
   "source": [
    "papers.paper_text_processed.head()"
   ]
  },
  {
   "cell_type": "code",
   "execution_count": 23,
   "metadata": {},
   "outputs": [],
   "source": [
    "import gensim.corpora as corpora"
   ]
  },
  {
   "cell_type": "code",
   "execution_count": 33,
   "metadata": {},
   "outputs": [],
   "source": [
    "ld2word = corpora.Dictionary(papers.paper_text_processed)"
   ]
  },
  {
   "cell_type": "code",
   "execution_count": 34,
   "metadata": {},
   "outputs": [],
   "source": [
    "texts = papers.paper_text_processed"
   ]
  },
  {
   "cell_type": "code",
   "execution_count": 35,
   "metadata": {},
   "outputs": [],
   "source": [
    "corpus = [ld2word.doc2bow(text) for text in texts]"
   ]
  },
  {
   "cell_type": "code",
   "execution_count": 36,
   "metadata": {},
   "outputs": [
    {
     "name": "stdout",
     "output_type": "stream",
     "text": [
      "[[(0, 1), (1, 8), (2, 1), (3, 1), (4, 1), (5, 2), (6, 1), (7, 6), (8, 1), (9, 1), (10, 3), (11, 1), (12, 2), (13, 2), (14, 1), (15, 1), (16, 1), (17, 1), (18, 1), (19, 6), (20, 2), (21, 4), (22, 8), (23, 5), (24, 1), (25, 1), (26, 2), (27, 2), (28, 1), (29, 1), (30, 23), (31, 1), (32, 1), (33, 1), (34, 73), (35, 1), (36, 1), (37, 6), (38, 1), (39, 1), (40, 10), (41, 1), (42, 1), (43, 1), (44, 2), (45, 3), (46, 3), (47, 1), (48, 1), (49, 1), (50, 1), (51, 2), (52, 14), (53, 7), (54, 1), (55, 1), (56, 3), (57, 1), (58, 1), (59, 1), (60, 1), (61, 23), (62, 1), (63, 1), (64, 1), (65, 13), (66, 1), (67, 3), (68, 1), (69, 1), (70, 14), (71, 1), (72, 2), (73, 2), (74, 1), (75, 4), (76, 5), (77, 4), (78, 3), (79, 1), (80, 2), (81, 2), (82, 15), (83, 2), (84, 4), (85, 1), (86, 6), (87, 1), (88, 3), (89, 7), (90, 1), (91, 3), (92, 9), (93, 1), (94, 2), (95, 6), (96, 1), (97, 1), (98, 1), (99, 1), (100, 1), (101, 1), (102, 1), (103, 1), (104, 2), (105, 24), (106, 1), (107, 1), (108, 2), (109, 1), (110, 11), (111, 12), (112, 1), (113, 3), (114, 1), (115, 1), (116, 1), (117, 6), (118, 1), (119, 1), (120, 1), (121, 1), (122, 1), (123, 2), (124, 2), (125, 1), (126, 3), (127, 1), (128, 1), (129, 1), (130, 1), (131, 1), (132, 1), (133, 1), (134, 2), (135, 1), (136, 2), (137, 1), (138, 2), (139, 2), (140, 2), (141, 3), (142, 2), (143, 1), (144, 1), (145, 2), (146, 1), (147, 3), (148, 1), (149, 2), (150, 1), (151, 1), (152, 3), (153, 2), (154, 2), (155, 1), (156, 3), (157, 1), (158, 1), (159, 1), (160, 1), (161, 1), (162, 1), (163, 2), (164, 1), (165, 1), (166, 3), (167, 2), (168, 1), (169, 1), (170, 1), (171, 1), (172, 3), (173, 1), (174, 2), (175, 2), (176, 4), (177, 1), (178, 1), (179, 4), (180, 2), (181, 1), (182, 1), (183, 2), (184, 3), (185, 1), (186, 1), (187, 1), (188, 1), (189, 7), (190, 12), (191, 7), (192, 1), (193, 1), (194, 1), (195, 2), (196, 1), (197, 14), (198, 3), (199, 2), (200, 5), (201, 1), (202, 1), (203, 1), (204, 1), (205, 2), (206, 1), (207, 2), (208, 1), (209, 2), (210, 2), (211, 2), (212, 2), (213, 1), (214, 1), (215, 1), (216, 1), (217, 1), (218, 1), (219, 3), (220, 1), (221, 2), (222, 1), (223, 1), (224, 1), (225, 1), (226, 1), (227, 1), (228, 2), (229, 1), (230, 2), (231, 1), (232, 1), (233, 3), (234, 1), (235, 1), (236, 3), (237, 3), (238, 1), (239, 1), (240, 4), (241, 1), (242, 1), (243, 1), (244, 1), (245, 3), (246, 1), (247, 1), (248, 2), (249, 1), (250, 2), (251, 2), (252, 1), (253, 2), (254, 1), (255, 1), (256, 2), (257, 1), (258, 1), (259, 1), (260, 1), (261, 3), (262, 1), (263, 2), (264, 2), (265, 1), (266, 1), (267, 1), (268, 7), (269, 1), (270, 3), (271, 1), (272, 1), (273, 4), (274, 1), (275, 1), (276, 1), (277, 1), (278, 8), (279, 4), (280, 2), (281, 2), (282, 2), (283, 4), (284, 4), (285, 1), (286, 1), (287, 6), (288, 1), (289, 1), (290, 1), (291, 2), (292, 1), (293, 1), (294, 1), (295, 2), (296, 4), (297, 3), (298, 1), (299, 1), (300, 1), (301, 2), (302, 3), (303, 1), (304, 1), (305, 1), (306, 1), (307, 1), (308, 1), (309, 1), (310, 1), (311, 1), (312, 2), (313, 2), (314, 22), (315, 1), (316, 1), (317, 1), (318, 5), (319, 4), (320, 1), (321, 6), (322, 1), (323, 1), (324, 1), (325, 1), (326, 1), (327, 8), (328, 4), (329, 48), (330, 1), (331, 1), (332, 2), (333, 1), (334, 1), (335, 1), (336, 1), (337, 2), (338, 3), (339, 14), (340, 1), (341, 1), (342, 2), (343, 3), (344, 2), (345, 1), (346, 1), (347, 2), (348, 1), (349, 1), (350, 3), (351, 1), (352, 3), (353, 1), (354, 1), (355, 1), (356, 1), (357, 1), (358, 2), (359, 2), (360, 1), (361, 2), (362, 1), (363, 3), (364, 3), (365, 1), (366, 2), (367, 2), (368, 2), (369, 1), (370, 7), (371, 6), (372, 2), (373, 1), (374, 1), (375, 1), (376, 1), (377, 2), (378, 10), (379, 1), (380, 1), (381, 1), (382, 1), (383, 8), (384, 1), (385, 1), (386, 1), (387, 4), (388, 6), (389, 14), (390, 5), (391, 1), (392, 1), (393, 15), (394, 8), (395, 1), (396, 1), (397, 2), (398, 1), (399, 1), (400, 2), (401, 1), (402, 1), (403, 64), (404, 1), (405, 1), (406, 2), (407, 2), (408, 5), (409, 1), (410, 1), (411, 3), (412, 3), (413, 3), (414, 1), (415, 2), (416, 1), (417, 1), (418, 2), (419, 1), (420, 1), (421, 4), (422, 1), (423, 1), (424, 1), (425, 1), (426, 1), (427, 1), (428, 2), (429, 1), (430, 1), (431, 1), (432, 61), (433, 28), (434, 7), (435, 2), (436, 1), (437, 1), (438, 1), (439, 1), (440, 2), (441, 1), (442, 2), (443, 1), (444, 2), (445, 2), (446, 1), (447, 1), (448, 1), (449, 1), (450, 1), (451, 1), (452, 2), (453, 1), (454, 1), (455, 1), (456, 1), (457, 1), (458, 17), (459, 2), (460, 1), (461, 2), (462, 1), (463, 3), (464, 18), (465, 8), (466, 5), (467, 4), (468, 1), (469, 2), (470, 1), (471, 1), (472, 3), (473, 1), (474, 1), (475, 1), (476, 1), (477, 1), (478, 1), (479, 1), (480, 1), (481, 1), (482, 1), (483, 1), (484, 1), (485, 2), (486, 1), (487, 7), (488, 4), (489, 1), (490, 1), (491, 1), (492, 2), (493, 1), (494, 1), (495, 1), (496, 2), (497, 2), (498, 2), (499, 1), (500, 2), (501, 1), (502, 1), (503, 1), (504, 2), (505, 2), (506, 6), (507, 1), (508, 3), (509, 8), (510, 1), (511, 1), (512, 1), (513, 2), (514, 1), (515, 5), (516, 1), (517, 2), (518, 1), (519, 4), (520, 5), (521, 2), (522, 1), (523, 4), (524, 1), (525, 1), (526, 2), (527, 4), (528, 2), (529, 1), (530, 1), (531, 1), (532, 2), (533, 1), (534, 1), (535, 1), (536, 1), (537, 2), (538, 2), (539, 6), (540, 9), (541, 1), (542, 1), (543, 4), (544, 1), (545, 3), (546, 1), (547, 6), (548, 1), (549, 1), (550, 7), (551, 1), (552, 1), (553, 1), (554, 1), (555, 5), (556, 1), (557, 13), (558, 1), (559, 1), (560, 5), (561, 2), (562, 4), (563, 5), (564, 2), (565, 1), (566, 2), (567, 1), (568, 152), (569, 1), (570, 33), (571, 1), (572, 6), (573, 1), (574, 2), (575, 2), (576, 1), (577, 1), (578, 10), (579, 7), (580, 1), (581, 3), (582, 7), (583, 3), (584, 1), (585, 2), (586, 5), (587, 2), (588, 5), (589, 2), (590, 1), (591, 1), (592, 1), (593, 2), (594, 1), (595, 1), (596, 4), (597, 4), (598, 3), (599, 1), (600, 1), (601, 1), (602, 2), (603, 1), (604, 3), (605, 1), (606, 1), (607, 1), (608, 1), (609, 1), (610, 1), (611, 1), (612, 1), (613, 2), (614, 1), (615, 1), (616, 6), (617, 1), (618, 6), (619, 15), (620, 1), (621, 1), (622, 3), (623, 10), (624, 2), (625, 1), (626, 2), (627, 1), (628, 2), (629, 1), (630, 2), (631, 1), (632, 1), (633, 1), (634, 1), (635, 1), (636, 6), (637, 1), (638, 1), (639, 2), (640, 2), (641, 1), (642, 2), (643, 2), (644, 1), (645, 1), (646, 2), (647, 1), (648, 4), (649, 1), (650, 1), (651, 7), (652, 1), (653, 4), (654, 2), (655, 1), (656, 1), (657, 1), (658, 2), (659, 1), (660, 9), (661, 1), (662, 1), (663, 4), (664, 1), (665, 1), (666, 1), (667, 1), (668, 2), (669, 1), (670, 1), (671, 1), (672, 1), (673, 11), (674, 4), (675, 3), (676, 1), (677, 1), (678, 1), (679, 4), (680, 1), (681, 2), (682, 1), (683, 1), (684, 1), (685, 7), (686, 1), (687, 1), (688, 1), (689, 3), (690, 3), (691, 1), (692, 1), (693, 1), (694, 1), (695, 1), (696, 1), (697, 1), (698, 1), (699, 1), (700, 1), (701, 1), (702, 3), (703, 1), (704, 2), (705, 1), (706, 1), (707, 1), (708, 1), (709, 1), (710, 1), (711, 1), (712, 1), (713, 1), (714, 2), (715, 22), (716, 5), (717, 1), (718, 1), (719, 1), (720, 3), (721, 1), (722, 5), (723, 1), (724, 5), (725, 1), (726, 1), (727, 1), (728, 1), (729, 1), (730, 1), (731, 7), (732, 1), (733, 13), (734, 2), (735, 1), (736, 1), (737, 3), (738, 1), (739, 1), (740, 4), (741, 1), (742, 2), (743, 1), (744, 2), (745, 1), (746, 1), (747, 1), (748, 11), (749, 2), (750, 4), (751, 9), (752, 1), (753, 4), (754, 1), (755, 1), (756, 5), (757, 8), (758, 3), (759, 1), (760, 1), (761, 1), (762, 5), (763, 1), (764, 1), (765, 1), (766, 2), (767, 1), (768, 1), (769, 1), (770, 3), (771, 1), (772, 5), (773, 1), (774, 2), (775, 1), (776, 21), (777, 2), (778, 1), (779, 2), (780, 1), (781, 1), (782, 3), (783, 1), (784, 1), (785, 3), (786, 1), (787, 1), (788, 1), (789, 1), (790, 6), (791, 2), (792, 1), (793, 1), (794, 1), (795, 1), (796, 9), (797, 4), (798, 2), (799, 1), (800, 1), (801, 1), (802, 3), (803, 1), (804, 1), (805, 1), (806, 1), (807, 1), (808, 1), (809, 14), (810, 1), (811, 1), (812, 1), (813, 1), (814, 1), (815, 1), (816, 1), (817, 1), (818, 2), (819, 1), (820, 1), (821, 4), (822, 1), (823, 1), (824, 1), (825, 1), (826, 1), (827, 1), (828, 1), (829, 4), (830, 4), (831, 3), (832, 1), (833, 1), (834, 3), (835, 1), (836, 1), (837, 1), (838, 3), (839, 1), (840, 1), (841, 1), (842, 1), (843, 1), (844, 2), (845, 4), (846, 28), (847, 248), (848, 7), (849, 1), (850, 1), (851, 26), (852, 1), (853, 4), (854, 1), (855, 2), (856, 6), (857, 9), (858, 1), (859, 1), (860, 66), (861, 1), (862, 1), (863, 2), (864, 1), (865, 1), (866, 1), (867, 2), (868, 2), (869, 1), (870, 1), (871, 5), (872, 3), (873, 1), (874, 1), (875, 1), (876, 1), (877, 1), (878, 1), (879, 1), (880, 2), (881, 13), (882, 1), (883, 2), (884, 1), (885, 2), (886, 1), (887, 1), (888, 1), (889, 1), (890, 1), (891, 1), (892, 1), (893, 1), (894, 2), (895, 1), (896, 4), (897, 1), (898, 4), (899, 1), (900, 1), (901, 2), (902, 2), (903, 1), (904, 5), (905, 1), (906, 3), (907, 1), (908, 2), (909, 1), (910, 1), (911, 1), (912, 1), (913, 2), (914, 1), (915, 1), (916, 2), (917, 2), (918, 1), (919, 1), (920, 4), (921, 3), (922, 24), (923, 1), (924, 3), (925, 3), (926, 1), (927, 3), (928, 1), (929, 3), (930, 1), (931, 4), (932, 4), (933, 3), (934, 1), (935, 1), (936, 1), (937, 2), (938, 10), (939, 1), (940, 15), (941, 2), (942, 1), (943, 1), (944, 2), (945, 3), (946, 1), (947, 1), (948, 1), (949, 3), (950, 3), (951, 1), (952, 4), (953, 4), (954, 3), (955, 3), (956, 5), (957, 4), (958, 1)]]\n"
     ]
    }
   ],
   "source": [
    "print(corpus[:1])"
   ]
  },
  {
   "cell_type": "code",
   "execution_count": 38,
   "metadata": {},
   "outputs": [],
   "source": [
    "dla_model = gensim.models.LdaMulticore(corpus=corpus,\n",
    "                                       id2word=ld2word,\n",
    "                                       num_topics=10, \n",
    "                                       random_state=100,\n",
    "                                       chunksize=100,\n",
    "                                       passes=10,\n",
    "                                       per_word_topics=True)"
   ]
  },
  {
   "cell_type": "code",
   "execution_count": 39,
   "metadata": {},
   "outputs": [
    {
     "ename": "NameError",
     "evalue": "name 'pprint' is not defined",
     "output_type": "error",
     "traceback": [
      "\u001b[0;31m----------------------------------------------------------------------\u001b[0m",
      "\u001b[0;31mNameError\u001b[0m                            Traceback (most recent call last)",
      "\u001b[0;32m<ipython-input-39-f2d609d86856>\u001b[0m in \u001b[0;36m<module>\u001b[0;34m\u001b[0m\n\u001b[0;32m----> 1\u001b[0;31m \u001b[0mpprint\u001b[0m\u001b[0;34m(\u001b[0m\u001b[0mdla_model\u001b[0m\u001b[0;34m.\u001b[0m\u001b[0mprint_topics\u001b[0m\u001b[0;34m(\u001b[0m\u001b[0;34m)\u001b[0m\u001b[0;34m)\u001b[0m\u001b[0;34m\u001b[0m\u001b[0;34m\u001b[0m\u001b[0m\n\u001b[0m\u001b[1;32m      2\u001b[0m \u001b[0mdoc_lda\u001b[0m \u001b[0;34m=\u001b[0m \u001b[0mdla_model\u001b[0m\u001b[0;34m[\u001b[0m\u001b[0mcorpus\u001b[0m\u001b[0;34m]\u001b[0m\u001b[0;34m\u001b[0m\u001b[0;34m\u001b[0m\u001b[0m\n",
      "\u001b[0;31mNameError\u001b[0m: name 'pprint' is not defined"
     ]
    }
   ],
   "source": [
    "pprint(dla_model.print_topics())\n",
    "doc_lda = dla_model[corpus]"
   ]
  },
  {
   "cell_type": "code",
   "execution_count": null,
   "metadata": {},
   "outputs": [],
   "source": [
    "from gensim.models import CoherenceModel\n",
    "# Compute Coherence Score\n",
    "coherence_model_lda = CoherenceModel(model=lda_model, texts=data_lemmatized, dictionary=id2word, coherence='c_v')\n",
    "coherence_lda = coherence_model_lda.get_coherence()\n",
    "print('\\nCoherence Score: ', coherence_lda)"
   ]
  },
  {
   "cell_type": "code",
   "execution_count": null,
   "metadata": {},
   "outputs": [],
   "source": []
  }
 ],
 "metadata": {
  "kernelspec": {
   "display_name": "Python 3",
   "language": "python",
   "name": "python3"
  },
  "language_info": {
   "codemirror_mode": {
    "name": "ipython",
    "version": 3
   },
   "file_extension": ".py",
   "mimetype": "text/x-python",
   "name": "python",
   "nbconvert_exporter": "python",
   "pygments_lexer": "ipython3",
   "version": "3.6.9"
  }
 },
 "nbformat": 4,
 "nbformat_minor": 4
}
